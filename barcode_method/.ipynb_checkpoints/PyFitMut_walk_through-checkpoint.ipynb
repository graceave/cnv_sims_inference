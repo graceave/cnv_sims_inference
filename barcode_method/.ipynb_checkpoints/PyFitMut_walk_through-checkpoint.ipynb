{
 "cells": [
  {
   "cell_type": "code",
   "execution_count": 1,
   "metadata": {},
   "outputs": [
    {
     "ename": "NameError",
     "evalue": "name 'read_num_seq' is not defined",
     "output_type": "error",
     "traceback": [
      "\u001b[0;31m---------------------------------------------------------------------------\u001b[0m",
      "\u001b[0;31mNameError\u001b[0m                                 Traceback (most recent call last)",
      "\u001b[0;32m<ipython-input-1-3dade9a935c3>\u001b[0m in \u001b[0;36m<module>\u001b[0;34m\u001b[0m\n\u001b[1;32m      6\u001b[0m \u001b[0;34m\u001b[0m\u001b[0m\n\u001b[1;32m      7\u001b[0m \u001b[0mdelta_t\u001b[0m \u001b[0;34m=\u001b[0m \u001b[0;36m9\u001b[0m\u001b[0;34m\u001b[0m\u001b[0;34m\u001b[0m\u001b[0m\n\u001b[0;32m----> 8\u001b[0;31m \u001b[0mt_seq\u001b[0m \u001b[0;34m=\u001b[0m \u001b[0mnp\u001b[0m\u001b[0;34m.\u001b[0m\u001b[0marange\u001b[0m\u001b[0;34m(\u001b[0m\u001b[0;36m0\u001b[0m\u001b[0;34m,\u001b[0m \u001b[0mdelta_t\u001b[0m\u001b[0;34m*\u001b[0m\u001b[0mread_num_seq\u001b[0m\u001b[0;34m.\u001b[0m\u001b[0mshape\u001b[0m\u001b[0;34m[\u001b[0m\u001b[0;36m1\u001b[0m\u001b[0;34m]\u001b[0m\u001b[0;34m,\u001b[0m \u001b[0mdelta_t\u001b[0m\u001b[0;34m)\u001b[0m\u001b[0;34m\u001b[0m\u001b[0;34m\u001b[0m\u001b[0m\n\u001b[0m\u001b[1;32m      9\u001b[0m \u001b[0mcell_depth_seq\u001b[0m \u001b[0;34m=\u001b[0m \u001b[0;36m1e7\u001b[0m\u001b[0;34m*\u001b[0m\u001b[0mdelta_t\u001b[0m\u001b[0;34m*\u001b[0m\u001b[0mnp\u001b[0m\u001b[0;34m.\u001b[0m\u001b[0mones\u001b[0m\u001b[0;34m(\u001b[0m\u001b[0mnp\u001b[0m\u001b[0;34m.\u001b[0m\u001b[0mshape\u001b[0m\u001b[0;34m(\u001b[0m\u001b[0mt_seq\u001b[0m\u001b[0;34m)\u001b[0m\u001b[0;34m)\u001b[0m\u001b[0;34m\u001b[0m\u001b[0;34m\u001b[0m\u001b[0m\n\u001b[1;32m     10\u001b[0m \u001b[0minput_test\u001b[0m \u001b[0;34m=\u001b[0m \u001b[0;34m{\u001b[0m\u001b[0;34m'0'\u001b[0m\u001b[0;34m:\u001b[0m\u001b[0mt_seq\u001b[0m\u001b[0;34m,\u001b[0m \u001b[0;34m'1'\u001b[0m\u001b[0;34m:\u001b[0m\u001b[0mcell_depth_seq\u001b[0m\u001b[0;34m}\u001b[0m\u001b[0;34m\u001b[0m\u001b[0;34m\u001b[0m\u001b[0m\n",
      "\u001b[0;31mNameError\u001b[0m: name 'read_num_seq' is not defined"
     ]
    }
   ],
   "source": [
    "import numpy as np\n",
    "import pandas as pd\n",
    "import itertools\n",
    "import csv\n",
    "\n",
    "\n",
    "delta_t = 9\n",
    "t_seq = np.arange(0, delta_t*read_num_seq.shape[1], delta_t)\n",
    "cell_depth_seq = 1e7*delta_t*np.ones(np.shape(t_seq))\n",
    "input_test = {'0':t_seq, '1':cell_depth_seq}\n",
    "tempt = list(itertools.zip_longest(*list(input_test.values())))\n",
    "with open('./input_sequenced_time_points.csv', 'w') as f:\n",
    "    w = csv.writer(f)\n",
    "    w.writerows(tempt)\n",
    "    "
   ]
  },
  {
   "cell_type": "code",
   "execution_count": 1,
   "metadata": {},
   "outputs": [
    {
     "name": "stdout",
     "output_type": "stream",
     "text": [
      "/Users/graceavecilla/opt/anaconda3/lib/python3.7/site-packages/numpy/lib/histograms.py:905: RuntimeWarning: invalid value encountered in true_divide\n",
      "  return n/db/n.sum(), bin_edges\n",
      "./pyfitmut_v10.py:92: RuntimeWarning: invalid value encountered in sqrt\n",
      "  / (4 * np.pi * kappa * np.power(read_num_t2, 1.5))),\n",
      "./pyfitmut_v10.py:94: RuntimeWarning: overflow encountered in exp\n",
      "  - np.sqrt(read_num_t2), 2) / kappa))\n",
      "./pyfitmut_v10.py:87: RuntimeWarning: invalid value encountered in log\n",
      "  read_num_t2_est = (read_num_t1_global * np.exp(np.log(1/(1+x_mean)) * (t_seq_t1t2_global[1] - t_seq_t1t2_global[0])) * read_depth_seq_t1t2_global[1] /read_depth_seq_t1t2_global[0])\n",
      "./pyfitmut_v10.py:92: RuntimeWarning: invalid value encountered in sqrt\n",
      "  / (4 * np.pi * kappa * np.power(read_num_t2, 1.5))),\n",
      "./pyfitmut_v10.py:94: RuntimeWarning: overflow encountered in exp\n",
      "  - np.sqrt(read_num_t2), 2) / kappa))\n",
      "./pyfitmut_v10.py:92: RuntimeWarning: invalid value encountered in sqrt\n",
      "  / (4 * np.pi * kappa * np.power(read_num_t2, 1.5))),\n",
      "./pyfitmut_v10.py:94: RuntimeWarning: overflow encountered in exp\n",
      "  - np.sqrt(read_num_t2), 2) / kappa))\n",
      "/Users/graceavecilla/opt/anaconda3/lib/python3.7/site-packages/numpy/lib/histograms.py:905: RuntimeWarning: invalid value encountered in true_divide\n",
      "  return n/db/n.sum(), bin_edges\n",
      "/Users/graceavecilla/opt/anaconda3/lib/python3.7/site-packages/numpy/lib/histograms.py:905: RuntimeWarning: invalid value encountered in true_divide\n",
      "  return n/db/n.sum(), bin_edges\n",
      "./pyfitmut_v10.py:92: RuntimeWarning: invalid value encountered in sqrt\n",
      "  / (4 * np.pi * kappa * np.power(read_num_t2, 1.5))),\n",
      "./pyfitmut_v10.py:94: RuntimeWarning: overflow encountered in exp\n",
      "  - np.sqrt(read_num_t2), 2) / kappa))\n",
      "./pyfitmut_v10.py:87: RuntimeWarning: invalid value encountered in log\n",
      "  read_num_t2_est = (read_num_t1_global * np.exp(np.log(1/(1+x_mean)) * (t_seq_t1t2_global[1] - t_seq_t1t2_global[0])) * read_depth_seq_t1t2_global[1] /read_depth_seq_t1t2_global[0])\n",
      "./pyfitmut_v10.py:92: RuntimeWarning: invalid value encountered in sqrt\n",
      "  / (4 * np.pi * kappa * np.power(read_num_t2, 1.5))),\n",
      "./pyfitmut_v10.py:94: RuntimeWarning: overflow encountered in exp\n",
      "  - np.sqrt(read_num_t2), 2) / kappa))\n",
      "./pyfitmut_v10.py:87: RuntimeWarning: invalid value encountered in log\n",
      "  read_num_t2_est = (read_num_t1_global * np.exp(np.log(1/(1+x_mean)) * (t_seq_t1t2_global[1] - t_seq_t1t2_global[0])) * read_depth_seq_t1t2_global[1] /read_depth_seq_t1t2_global[0])\n",
      "./pyfitmut_v10.py:92: RuntimeWarning: invalid value encountered in sqrt\n",
      "  / (4 * np.pi * kappa * np.power(read_num_t2, 1.5))),\n",
      "./pyfitmut_v10.py:94: RuntimeWarning: overflow encountered in exp\n",
      "  - np.sqrt(read_num_t2), 2) / kappa))\n",
      "./pyfitmut_v10.py:87: RuntimeWarning: invalid value encountered in log\n",
      "  read_num_t2_est = (read_num_t1_global * np.exp(np.log(1/(1+x_mean)) * (t_seq_t1t2_global[1] - t_seq_t1t2_global[0])) * read_depth_seq_t1t2_global[1] /read_depth_seq_t1t2_global[0])\n",
      "./pyfitmut_v10.py:87: RuntimeWarning: invalid value encountered in log\n",
      "  read_num_t2_est = (read_num_t1_global * np.exp(np.log(1/(1+x_mean)) * (t_seq_t1t2_global[1] - t_seq_t1t2_global[0])) * read_depth_seq_t1t2_global[1] /read_depth_seq_t1t2_global[0])\n",
      "/Users/graceavecilla/opt/anaconda3/lib/python3.7/site-packages/numpy/lib/histograms.py:905: RuntimeWarning: invalid value encountered in true_divide\n",
      "  return n/db/n.sum(), bin_edges\n",
      "/Users/graceavecilla/opt/anaconda3/lib/python3.7/site-packages/numpy/lib/histograms.py:905: RuntimeWarning: invalid value encountered in true_divide\n",
      "  return n/db/n.sum(), bin_edges\n",
      "/Users/graceavecilla/opt/anaconda3/lib/python3.7/site-packages/numpy/lib/histograms.py:905: RuntimeWarning: invalid value encountered in true_divide\n",
      "  return n/db/n.sum(), bin_edges\n",
      "./pyfitmut_v10.py:92: RuntimeWarning: invalid value encountered in sqrt\n",
      "  / (4 * np.pi * kappa * np.power(read_num_t2, 1.5))),\n",
      "./pyfitmut_v10.py:92: RuntimeWarning: invalid value encountered in sqrt\n",
      "  / (4 * np.pi * kappa * np.power(read_num_t2, 1.5))),\n",
      "./pyfitmut_v10.py:94: RuntimeWarning: overflow encountered in exp\n",
      "  - np.sqrt(read_num_t2), 2) / kappa))\n",
      "./pyfitmut_v10.py:87: RuntimeWarning: invalid value encountered in log\n",
      "  read_num_t2_est = (read_num_t1_global * np.exp(np.log(1/(1+x_mean)) * (t_seq_t1t2_global[1] - t_seq_t1t2_global[0])) * read_depth_seq_t1t2_global[1] /read_depth_seq_t1t2_global[0])\n",
      "./pyfitmut_v10.py:92: RuntimeWarning: invalid value encountered in sqrt\n",
      "  / (4 * np.pi * kappa * np.power(read_num_t2, 1.5))),\n",
      "./pyfitmut_v10.py:94: RuntimeWarning: overflow encountered in exp\n",
      "  - np.sqrt(read_num_t2), 2) / kappa))\n",
      "./pyfitmut_v10.py:92: RuntimeWarning: invalid value encountered in sqrt\n",
      "  / (4 * np.pi * kappa * np.power(read_num_t2, 1.5))),\n",
      "./pyfitmut_v10.py:94: RuntimeWarning: overflow encountered in exp\n",
      "  - np.sqrt(read_num_t2), 2) / kappa))\n",
      "/Users/graceavecilla/opt/anaconda3/lib/python3.7/site-packages/numpy/lib/histograms.py:905: RuntimeWarning: invalid value encountered in true_divide\n",
      "  return n/db/n.sum(), bin_edges\n",
      "./pyfitmut_v10.py:87: RuntimeWarning: invalid value encountered in log\n",
      "  read_num_t2_est = (read_num_t1_global * np.exp(np.log(1/(1+x_mean)) * (t_seq_t1t2_global[1] - t_seq_t1t2_global[0])) * read_depth_seq_t1t2_global[1] /read_depth_seq_t1t2_global[0])\n",
      "./pyfitmut_v10.py:92: RuntimeWarning: invalid value encountered in sqrt\n",
      "  / (4 * np.pi * kappa * np.power(read_num_t2, 1.5))),\n",
      "./pyfitmut_v10.py:94: RuntimeWarning: overflow encountered in exp\n",
      "  - np.sqrt(read_num_t2), 2) / kappa))\n",
      "./pyfitmut_v10.py:87: RuntimeWarning: invalid value encountered in log\n",
      "  read_num_t2_est = (read_num_t1_global * np.exp(np.log(1/(1+x_mean)) * (t_seq_t1t2_global[1] - t_seq_t1t2_global[0])) * read_depth_seq_t1t2_global[1] /read_depth_seq_t1t2_global[0])\n",
      "./pyfitmut_v10.py:87: RuntimeWarning: invalid value encountered in log\n",
      "  read_num_t2_est = (read_num_t1_global * np.exp(np.log(1/(1+x_mean)) * (t_seq_t1t2_global[1] - t_seq_t1t2_global[0])) * read_depth_seq_t1t2_global[1] /read_depth_seq_t1t2_global[0])\n",
      "/Users/graceavecilla/opt/anaconda3/lib/python3.7/site-packages/numpy/lib/histograms.py:905: RuntimeWarning: invalid value encountered in true_divide\n",
      "  return n/db/n.sum(), bin_edges\n",
      "/Users/graceavecilla/opt/anaconda3/lib/python3.7/site-packages/numpy/lib/histograms.py:905: RuntimeWarning: invalid value encountered in true_divide\n",
      "  return n/db/n.sum(), bin_edges\n",
      "/Users/graceavecilla/opt/anaconda3/lib/python3.7/site-packages/numpy/lib/histograms.py:905: RuntimeWarning: invalid value encountered in true_divide\n",
      "  return n/db/n.sum(), bin_edges\n",
      "  0%|                                                    | 0/58 [00:00<?, ?it/s]./pyfitmut_v10.py:398: RuntimeWarning: invalid value encountered in log\n",
      "  - (np.sqrt(read_num_measure_global)\n",
      "100%|█████████████████████████████████████████| 58/58 [00:00<00:00, 7365.11it/s]\n"
     ]
    }
   ],
   "source": [
    "##############################################################################    \n",
    "!python ./pyfitmut_v10.py -i bc_02_downsampled_PyFit.csv -t timepts.csv -u 2e-5 -o test\n"
   ]
  },
  {
   "cell_type": "code",
   "execution_count": null,
   "metadata": {},
   "outputs": [],
   "source": []
  }
 ],
 "metadata": {
  "kernelspec": {
   "display_name": "Python 3",
   "language": "python",
   "name": "python3"
  },
  "language_info": {
   "codemirror_mode": {
    "name": "ipython",
    "version": 3
   },
   "file_extension": ".py",
   "mimetype": "text/x-python",
   "name": "python",
   "nbconvert_exporter": "python",
   "pygments_lexer": "ipython3",
   "version": "3.7.6"
  }
 },
 "nbformat": 4,
 "nbformat_minor": 4
}

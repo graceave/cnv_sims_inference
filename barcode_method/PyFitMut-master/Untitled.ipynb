{
 "cells": [
  {
   "cell_type": "code",
   "execution_count": 1,
   "id": "proved-entrepreneur",
   "metadata": {},
   "outputs": [],
   "source": [
    "import numpy as np"
   ]
  },
  {
   "cell_type": "code",
   "execution_count": 3,
   "id": "wanted-tunnel",
   "metadata": {},
   "outputs": [],
   "source": [
    "reads = np.genfromtxt(\"test_EvoSimulation_Read_Number.csv\", delimiter=',')"
   ]
  },
  {
   "cell_type": "code",
   "execution_count": 7,
   "id": "wired-holiday",
   "metadata": {},
   "outputs": [
    {
     "data": {
      "text/plain": [
       "array([10004714., 10002523.,  9996935., 10002246.,  9996727., 10001197.,\n",
       "       10000694.,  9999204.,  9999799., 10003759., 10000503., 10000221.,\n",
       "        9999795.])"
      ]
     },
     "execution_count": 7,
     "metadata": {},
     "output_type": "execute_result"
    }
   ],
   "source": [
    "np.sum(reads, axis=0)"
   ]
  },
  {
   "cell_type": "raw",
   "id": "anonymous-antigua",
   "metadata": {},
   "source": []
  }
 ],
 "metadata": {
  "kernelspec": {
   "display_name": "Python 3",
   "language": "python",
   "name": "python3"
  },
  "language_info": {
   "codemirror_mode": {
    "name": "ipython",
    "version": 3
   },
   "file_extension": ".py",
   "mimetype": "text/x-python",
   "name": "python",
   "nbconvert_exporter": "python",
   "pygments_lexer": "ipython3",
   "version": "3.7.6"
  }
 },
 "nbformat": 4,
 "nbformat_minor": 5
}

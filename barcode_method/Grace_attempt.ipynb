{
 "cells": [
  {
   "cell_type": "code",
   "execution_count": 5,
   "id": "given-catalyst",
   "metadata": {},
   "outputs": [],
   "source": [
    "import numpy as np\n",
    "from scipy.optimize import minimize\n",
    "bc_data = np.genfromtxt(\"bc_02_filtered_PyFit.csv\",delimiter=',')\n",
    "timepoints = np.genfromtxt(\"timepts.csv\", delimiter=',')"
   ]
  },
  {
   "cell_type": "code",
   "execution_count": null,
   "id": "found-produce",
   "metadata": {},
   "outputs": [],
   "source": [
    "min_reads=10\n",
    "max_reads = 30\n",
    "for i in range(bc_data.shape[1]):\n",
    "        idx = (bc_data[:,i] > min_reads) * (bc_data[:,i] < max_reads)\n",
    "        \n",
    "        "
   ]
  }
 ],
 "metadata": {
  "kernelspec": {
   "display_name": "Python 3",
   "language": "python",
   "name": "python3"
  },
  "language_info": {
   "codemirror_mode": {
    "name": "ipython",
    "version": 3
   },
   "file_extension": ".py",
   "mimetype": "text/x-python",
   "name": "python",
   "nbconvert_exporter": "python",
   "pygments_lexer": "ipython3",
   "version": "3.7.6"
  }
 },
 "nbformat": 4,
 "nbformat_minor": 5
}

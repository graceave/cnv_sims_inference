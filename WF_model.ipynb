{
 "cells": [
  {
   "cell_type": "markdown",
   "metadata": {},
   "source": [
    "Wright-Fisher evolution.  \n",
    "Put equations here at some point"
   ]
  },
  {
   "cell_type": "code",
   "execution_count": 1,
   "metadata": {},
   "outputs": [],
   "source": [
    "import numpy as np\n",
    "import numba\n",
    "\n",
    "## Wright Fisher stochastic discrete time model ##\n",
    "def CNVsimulator_simpleWF(N, s_snv, m_snv, generation, seed=None, **kwargs):\n",
    "    \"\"\" CNV evolution simulator\n",
    "    Simulates CNV and SNV evolution for 267 generations\n",
    "    Returns proportion of the population with a CNV for generations observed in Lauer et al. 2018 as 1d np.array of length 25\n",
    "    \n",
    "    Parameters\n",
    "    -------------------\n",
    "    N : int\n",
    "        population size  \n",
    "    s_snv : float\n",
    "        fitness benefit of SNVs  \n",
    "    m_snv : float \n",
    "        probability mutation to SNV   \n",
    "    generation : np.array, 1d \n",
    "        with generations 0 through the end of simulation\n",
    "    seed : int\n",
    "    \n",
    "    Depending on what the downstream inference is, the following parameters are can be passed\n",
    "    cnv_params : np.array, 1d of length dim_param\n",
    "        Parameter vector with the log 10 selection coefficient and log 10 cnv mutation rate, for use with SNPE or to build observed data\n",
    "    parameters : instance of parameters\n",
    "        has attribute s, float, log 10 selection coefficient\n",
    "        has attribute m, float, log 10 cnv mutation rate\n",
    "        for use with pyABC\n",
    "    \"\"\"\n",
    "    cnv_params = kwargs.get('cnv_params', None)\n",
    "    parameters = kwargs.get('parameters', None)\n",
    "    \n",
    "    if seed is not None:\n",
    "        np.random.seed(seed=seed)\n",
    "    else:\n",
    "        np.random.seed()\n",
    "\n",
    "    \n",
    "    assert N > 0\n",
    "    N = np.uint64(N)\n",
    "    if isinstance(cnv_params, np.ndarray):\n",
    "        s_cnv, m_cnv = np.power(10,cnv_params)\n",
    "    else:\n",
    "        s_cnv = np.power(10,parameters.s)\n",
    "        m_cnv = np.power(10,parameters.m)\n",
    "    \n",
    "    w = np.array([1, 1 + s_cnv, 1 + s_snv])\n",
    "    S = np.diag(w)\n",
    "    \n",
    "    # make transition rate array\n",
    "    M = np.array([[1 - m_cnv - m_snv, 0, 0],\n",
    "                [m_cnv, 1, 0],\n",
    "                [m_snv, 0, 1]])\n",
    "    assert np.allclose(M.sum(axis=0), 1)\n",
    "    \n",
    "    # mutation and selection\n",
    "    E = M @ S\n",
    "\n",
    "    # rows are genotypes\n",
    "    n = np.zeros(3)\n",
    "    n[0] = N  \n",
    "    \n",
    "    # follow proportion of the population with CNV\n",
    "    # here rows with be generation, columns (there is only one) is replicate population\n",
    "    p_cnv = []\n",
    "    \n",
    "    # run simulation to generation 267\n",
    "    for t in generation:    \n",
    "        p = n/N  # counts to frequencies\n",
    "        p_cnv.append(p[1])  # frequency of CNVs\n",
    "        p = E @ p.reshape((3, 1))  # natural selection + mutation        \n",
    "        p /= p.sum()  # rescale proportions\n",
    "        n = np.random.multinomial(N, np.ndarray.flatten(p)) # random genetic drift\n",
    "    \n",
    "    #these were the generations observed in Lauer et al. 2018, so the ones we will use here\n",
    "    exp_gen = np.array([25,33,41,54,62,70,79,87,95,103,116,124,132,145,153,161,174,182,190,211,219,232,244,257,267])\n",
    "    \n",
    "    return np.transpose(p_cnv)[exp_gen]"
   ]
  },
  {
   "cell_type": "code",
   "execution_count": 3,
   "metadata": {},
   "outputs": [],
   "source": [
    "N=3e8\n",
    "generation = np.array(range(0,268))\n",
    "s_snv=0.002  # Venkataram et al. 2016\n",
    "m_snv=1.67e-10 #SNV mutation rate: 1.67 x 10^-10 per base per generation (Zhu et al. 2014)\n",
    "cnv_params =np.array([np.log10(0.1), np.log10(1e-5)])\n",
    "cnv_data = CNVsimulator_simpleWF(N, s_snv, m_snv, generation, seed=None, cnv_params=cnv_params)\n",
    "exp_gen = np.array([25,33,41,54,62,70,79,87,95,103,116,124,132,145,153,161,174,182,190,211,219,232,244,257,267])"
   ]
  },
  {
   "cell_type": "code",
   "execution_count": 4,
   "metadata": {},
   "outputs": [
    {
     "name": "stderr",
     "output_type": "stream",
     "text": [
      "No handles with labels found to put in legend.\n"
     ]
    },
    {
     "data": {
      "text/plain": [
       "<matplotlib.legend.Legend at 0x7fefa3eccd10>"
      ]
     },
     "execution_count": 4,
     "metadata": {},
     "output_type": "execute_result"
    },
    {
     "data": {
      "image/png": "[encoded data removed]",
      "text/plain": [
       "<Figure size 432x288 with 1 Axes>"
      ]
     },
     "metadata": {
      "needs_background": "light"
     },
     "output_type": "display_data"
    }
   ],
   "source": [
    "import matplotlib.pyplot as plt\n",
    "fig, ax = plt.subplots()\n",
    "ax.plot(exp_gen, cnv_data, lw=3)\n",
    "ax.set_xlabel('generation')\n",
    "ax.set_ylabel('proportion of the pop with cnv')\n",
    "ax.legend()"
   ]
  }
 ],
 "metadata": {
  "kernelspec": {
   "display_name": "Python 3",
   "language": "python",
   "name": "python3"
  },
  "language_info": {
   "codemirror_mode": {
    "name": "ipython",
    "version": 3
   },
   "file_extension": ".py",
   "mimetype": "text/x-python",
   "name": "python",
   "nbconvert_exporter": "python",
   "pygments_lexer": "ipython3",
   "version": "3.7.6"
  }
 },
 "nbformat": 4,
 "nbformat_minor": 4
}

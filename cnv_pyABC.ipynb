{
 "cells": [
  {
   "cell_type": "code",
   "execution_count": 1,
   "metadata": {},
   "outputs": [],
   "source": [
    "import random\n",
    "\n",
    "%matplotlib inline\n",
    "import matplotlib as mpl\n",
    "import matplotlib.pyplot as plt\n",
    "import numpy as np\n",
    "from numpy.random import normal\n",
    "import scipy.stats\n",
    "import sympy\n",
    "import seaborn as sns\n",
    "import pandas as pd\n",
    "import numba\n",
    "from scipy.stats import entropy\n",
    "import os\n",
    "import tempfile\n",
    "import logging\n",
    "\n",
    "from pyabc import ABCSMC, RV, Distribution\n",
    "from pyabc.distance import AdaptivePNormDistance, PercentileDistance\n",
    "\n",
    "from pyabc.sampler import SingleCoreSampler\n",
    "from pyabc.visualization import plot_kde_1d, plot_kde_2d"
   ]
  },
  {
   "cell_type": "markdown",
   "metadata": {},
   "source": [
    "First, define the simulator.  \n",
    "N = population size  \n",
    "s_cnv = fitness benefit of CNVs  \n",
    "s_snv = fitness benefit of SNVs  \n",
    "m_cnv = probability mutation to CNV  \n",
    "m_snv = probability mutation to SNV\n"
   ]
  },
  {
   "cell_type": "code",
   "execution_count": 2,
   "metadata": {},
   "outputs": [],
   "source": [
    "def CNVsimulator(N, s_snv, m_snv, generation, seed=None, **kwargs):\n",
    "    \"\"\" CNV evolution simulator\n",
    "    Simulates CNV and SNV evolution for 267 generations\n",
    "    Returns proportion of the population with a CNV per generation as 1d np.array of length 267\n",
    "    \n",
    "    Parameters\n",
    "    -------------------\n",
    "    N : int\n",
    "        population size  \n",
    "    s_snv : float\n",
    "        fitness benefit of SNVs  \n",
    "    m_snv : float \n",
    "        probability mutation to SNV   \n",
    "    gen : np.array, 1d \n",
    "        with generations 0 through the end of simulation\n",
    "    seed : int\n",
    "    \n",
    "    Depending on what the downstream inference is, the following parameters are can be passed\n",
    "    cnv_params : np.array, 1d of length dim_param\n",
    "        Parameter vector with the log 10 selection coefficient and log 10 cnv mutation rate, for use with SNPE or to build observed data\n",
    "    parameters : instance of parameters\n",
    "        has attribute s, float, log 10 selection coefficient\n",
    "        has attribute m, float, log 10 cnv mutation rate\n",
    "        for use with pyABC\n",
    "    \"\"\"\n",
    "    cnv_params = kwargs.get('cnv_params', None)\n",
    "    parameters = kwargs.get('parameters', None)\n",
    "    \n",
    "    if seed is not None:\n",
    "        np.random.seed(seed=seed)\n",
    "    else:\n",
    "        np.random.seed()\n",
    "\n",
    "    \n",
    "    assert N > 0\n",
    "    N = np.uint64(N)\n",
    "    if isinstance(cnv_params, np.ndarray):\n",
    "        s_cnv, m_cnv = np.power(10,cnv_params)\n",
    "    else:\n",
    "        s_cnv = np.power(10,parameters.s)\n",
    "        m_cnv = np.power(10,parameters.m)\n",
    "    \n",
    "    w = np.array([1, 1 + s_cnv, 1 + s_snv])\n",
    "    S = np.diag(w)\n",
    "    \n",
    "    # make transition rate array\n",
    "    # make transition rate array\n",
    "    M = np.array([[1 - m_cnv - m_snv, 0, 0],\n",
    "                [m_cnv, 1, 0],\n",
    "                [m_snv, 0, 1]])\n",
    "    assert np.allclose(M.sum(axis=0), 1)\n",
    "    \n",
    "    # mutation and selection\n",
    "    E = M @ S\n",
    "\n",
    "    # rows are genotypes\n",
    "    n = np.zeros(3)\n",
    "    n[0] = N  \n",
    "    \n",
    "    # follow proportion of the population with CNV\n",
    "    # here rows with be generation, columns (there is only one) is replicate population\n",
    "    p_cnv = []\n",
    "    \n",
    "    # run simulation to generation 267\n",
    "    for t in generation:    \n",
    "        p = n/N  # counts to frequencies\n",
    "        p_cnv.append(p[1])  # frequency of CNVs\n",
    "        p = E @ p.reshape((3, 1))  # natural selection + mutation        \n",
    "        p /= p.sum()  # rescale proportions\n",
    "        n = np.random.multinomial(N, p) # random genetic drift\n",
    "    \n",
    "    #these were the generations observed in Lauer et al. 2018, so the ones we will use here\n",
    "    exp_gen = np.array([25,33,41,54,62,70,79,87,95,103,116,124,132,145,153,161,174,182,190,211,219,232,244,257,267])\n",
    "    \n",
    "    return np.transpose(p_cnv)[exp_gen]"
   ]
  },
  {
   "cell_type": "markdown",
   "metadata": {},
   "source": [
    "\"Observed data\"  \n",
    "Using 9 simulations with known parameters for observed data"
   ]
  },
  {
   "cell_type": "code",
   "execution_count": 3,
   "metadata": {},
   "outputs": [],
   "source": [
    "# pop size, fitness SNVs, mutation rate SNVs, number of generations\n",
    "N = 3e8\n",
    "s_snv=0.001\n",
    "m_snv=1e-5\n",
    "generation = np.array(range(0,268))\n",
    "seed_true = 1\n",
    "\n",
    "# true parameters\n",
    "true_params = np.log10(np.array([.001, 1e-5]))\n",
    "labels_params = ['CNV fitness effect', 'CNV mutation rate']\n",
    "\n",
    "# our actual observation.\n",
    "data_observed = CNVsimulator(N=N, s_snv=s_snv, m_snv=m_snv, cnv_params=true_params, generation=generation, seed=seed_true)\n",
    "exp_gen = np.array([25,33,41,54,62,70,79,87,95,103,116,124,132,145,153,161,174,182,190,211,219,232,244,257,267]).astype(str)\n",
    "dict_observed = {}\n",
    "i = 0\n",
    "for keys in exp_gen: \n",
    "    dict_observed[keys] = data_observed[i]\n",
    "    i+=1"
   ]
  },
  {
   "cell_type": "markdown",
   "metadata": {},
   "source": [
    "Wrapper, pyABC requires simulation to return a dictionary"
   ]
  },
  {
   "cell_type": "code",
   "execution_count": 4,
   "metadata": {},
   "outputs": [],
   "source": [
    "def simulate_pyabc(parameters, N=N, s_snv=s_snv, m_snv=m_snv, generation=generation):\n",
    "    res = CNVsimulator(N=N, s_snv=s_snv, m_snv=m_snv, generation=generation, parameters=parameters)\n",
    "    exp_gen = np.array([25,33,41,54,62,70,79,87,95,103,116,124,132,145,153,161,174,182,190,211,219,232,244,257,267]).astype(str)\n",
    "    pyabc_dict = {}\n",
    "    i = 0\n",
    "    for keys in exp_gen: \n",
    "        pyabc_dict[keys] = res[i]\n",
    "        i+=1\n",
    "    return pyabc_dict"
   ]
  },
  {
   "cell_type": "raw",
   "metadata": {},
   "source": [
    "Prior over model parameters. Model parameters are CNV fitness effects and CNV mutation rates. Will use a uniform distribution over the log of the priors."
   ]
  },
  {
   "cell_type": "code",
   "execution_count": 5,
   "metadata": {},
   "outputs": [],
   "source": [
    "prior = Distribution(\n",
    "    s=RV(\"uniform\", np.log10(1e-4), np.log10(0.3)-np.log10(1e-4)),\n",
    "    m=RV(\"uniform\", np.log10(1e-12), np.log10(1e-4)-np.log10(1e-12))\n",
    ")"
   ]
  },
  {
   "cell_type": "markdown",
   "metadata": {},
   "source": [
    "Create the ABCSMC object, given the model, the prior, and the distance function $\\rho$, which we set to PercentileDistanceFunction which is the absolute difference $|x - x_0|$ normalized to the statistics of the samples."
   ]
  },
  {
   "cell_type": "code",
   "execution_count": 6,
   "metadata": {},
   "outputs": [],
   "source": [
    "abc = ABCSMC(models=simulate_pyabc,\n",
    "             parameter_priors=prior,\n",
    "             distance_function=AdaptivePNormDistance(p=2),\n",
    "             sampler=SingleCoreSampler(),\n",
    "             population_size=30)"
   ]
  },
  {
   "cell_type": "code",
   "execution_count": 7,
   "metadata": {},
   "outputs": [
    {
     "name": "stderr",
     "output_type": "stream",
     "text": [
      "INFO:History:Start <ABCSMC(id=5, start_time=2020-05-19 15:18:41.463046, end_time=None)>\n"
     ]
    }
   ],
   "source": [
    "# and we define where to store the results\n",
    "db_path = (\"sqlite:///\" +\n",
    "           os.path.join(tempfile.gettempdir(), \"test.db\"))\n",
    "history = abc.new(db_path, dict_observed)"
   ]
  },
  {
   "cell_type": "code",
   "execution_count": 8,
   "metadata": {},
   "outputs": [
    {
     "name": "stdout",
     "output_type": "stream",
     "text": [
      "ABC-SMC run ID: 5\n"
     ]
    }
   ],
   "source": [
    "print(\"ABC-SMC run ID:\", history.id)"
   ]
  },
  {
   "cell_type": "code",
   "execution_count": 9,
   "metadata": {},
   "outputs": [
    {
     "name": "stderr",
     "output_type": "stream",
     "text": [
      "INFO:ABC:Calibration sample before t=0.\n",
      "INFO:Epsilon:initial epsilon is 0.003975902418441637\n",
      "INFO:ABC:t: 0, eps: 0.003975902418441637.\n",
      "INFO:ABC:Acceptance rate: 30 / 70 = 4.2857e-01, ESS=3.0000e+01.\n",
      "INFO:ABC:Stopping: minimum epsilon.\n",
      "INFO:History:Done <ABCSMC(id=5, start_time=2020-05-19 15:18:41.463046, end_time=2020-05-19 15:18:44.305430)>\n"
     ]
    }
   ],
   "source": [
    "# We run the ABC until either criterion is met\n",
    "history = abc.run(minimum_epsilon=0.2, max_nr_populations=5)"
   ]
  },
  {
   "cell_type": "code",
   "execution_count": 10,
   "metadata": {},
   "outputs": [
    {
     "data": {
      "text/html": [
       "<div>\n",
       "<style scoped>\n",
       "    .dataframe tbody tr th:only-of-type {\n",
       "        vertical-align: middle;\n",
       "    }\n",
       "\n",
       "    .dataframe tbody tr th {\n",
       "        vertical-align: top;\n",
       "    }\n",
       "\n",
       "    .dataframe thead th {\n",
       "        text-align: right;\n",
       "    }\n",
       "</style>\n",
       "<table border=\"1\" class=\"dataframe\">\n",
       "  <thead>\n",
       "    <tr style=\"text-align: right;\">\n",
       "      <th>name</th>\n",
       "      <th>m</th>\n",
       "      <th>s</th>\n",
       "    </tr>\n",
       "    <tr>\n",
       "      <th>id</th>\n",
       "      <th></th>\n",
       "      <th></th>\n",
       "    </tr>\n",
       "  </thead>\n",
       "  <tbody>\n",
       "    <tr>\n",
       "      <th>36</th>\n",
       "      <td>-8.688730</td>\n",
       "      <td>-3.590591</td>\n",
       "    </tr>\n",
       "    <tr>\n",
       "      <th>37</th>\n",
       "      <td>-8.963098</td>\n",
       "      <td>-2.098631</td>\n",
       "    </tr>\n",
       "    <tr>\n",
       "      <th>38</th>\n",
       "      <td>-7.046623</td>\n",
       "      <td>-2.668486</td>\n",
       "    </tr>\n",
       "    <tr>\n",
       "      <th>39</th>\n",
       "      <td>-8.368735</td>\n",
       "      <td>-3.403697</td>\n",
       "    </tr>\n",
       "    <tr>\n",
       "      <th>40</th>\n",
       "      <td>-5.368646</td>\n",
       "      <td>-2.158101</td>\n",
       "    </tr>\n",
       "  </tbody>\n",
       "</table>\n",
       "</div>"
      ],
      "text/plain": [
       "name         m         s\n",
       "id                      \n",
       "36   -8.688730 -3.590591\n",
       "37   -8.963098 -2.098631\n",
       "38   -7.046623 -2.668486\n",
       "39   -8.368735 -3.403697\n",
       "40   -5.368646 -2.158101"
      ]
     },
     "execution_count": 10,
     "metadata": {},
     "output_type": "execute_result"
    }
   ],
   "source": [
    "params, weights = history.get_distribution(0)\n",
    "params.head()"
   ]
  },
  {
   "cell_type": "code",
   "execution_count": 17,
   "metadata": {},
   "outputs": [
    {
     "data": {
      "image/png": "[encoded data removed]",
      "text/plain": [
       "<Figure size 864x288 with 4 Axes>"
      ]
     },
     "metadata": {
      "needs_background": "light"
     },
     "output_type": "display_data"
    }
   ],
   "source": [
    "fig, axes = plt.subplots(1, 3, figsize=(12, 4))\n",
    "\n",
    "for param_name, param_real_value, ax in zip(['s', 'm'], true_params, axes.flat):\n",
    "    sns.distplot(params[param_name], hist_kws=dict(weights=weights), ax=ax)\n",
    "    ax.axvline(param_real_value, color='red')\n",
    "    ax.axvline(params[param_name].values @ weights, color='red', ls='--')\n",
    "    ax.set(xlabel=param_name, ylabel='Posterior')\n",
    "    \n",
    "ax = axes[2]\n",
    "plot_kde_2d(params, weights, 'm', 's', xmin=np.log10(1e-4), xmax=np.log10(0.3), ymin=np.log10(1e-12), ymax=np.log10(1e-4), \n",
    "            ax=ax, colorbar=True)\n",
    "ax.plot(true_params[1], true_params[0], 'o', color='red')\n",
    "\n",
    "fig.tight_layout()"
   ]
  },
  {
   "cell_type": "code",
   "execution_count": 14,
   "metadata": {},
   "outputs": [
    {
     "data": {
      "text/plain": [
       "array([1.e-03, 1.e-05])"
      ]
     },
     "execution_count": 14,
     "metadata": {},
     "output_type": "execute_result"
    }
   ],
   "source": [
    "np.power(10,true_params)"
   ]
  },
  {
   "cell_type": "code",
   "execution_count": 18,
   "metadata": {},
   "outputs": [
    {
     "ename": "AttributeError",
     "evalue": "'Distribution' object has no attribute 's'",
     "output_type": "error",
     "traceback": [
      "\u001b[0;31m---------------------------------------------------------------------------\u001b[0m",
      "\u001b[0;31mAttributeError\u001b[0m                            Traceback (most recent call last)",
      "\u001b[0;32m<ipython-input-18-d57636dbeb14>\u001b[0m in \u001b[0;36m<module>\u001b[0;34m\u001b[0m\n\u001b[0;32m----> 1\u001b[0;31m \u001b[0mprior\u001b[0m\u001b[0;34m.\u001b[0m\u001b[0ms\u001b[0m\u001b[0;34m\u001b[0m\u001b[0;34m\u001b[0m\u001b[0m\n\u001b[0m",
      "\u001b[0;31mAttributeError\u001b[0m: 'Distribution' object has no attribute 's'"
     ]
    }
   ],
   "source": [
    " s=RV(\"uniform\", np.log10(1e-4), np.log10(1e-3)-np.log10(1e-4)),\n",
    "    m=RV(\"uniform\", np.log10(1e-12), np.log10(0.3)-np.log10(1e-12))"
   ]
  },
  {
   "cell_type": "code",
   "execution_count": 21,
   "metadata": {},
   "outputs": [
    {
     "data": {
      "text/plain": [
       "0.001"
      ]
     },
     "execution_count": 21,
     "metadata": {},
     "output_type": "execute_result"
    }
   ],
   "source": [
    "1e-3"
   ]
  },
  {
   "cell_type": "code",
   "execution_count": null,
   "metadata": {},
   "outputs": [],
   "source": []
  }
 ],
 "metadata": {
  "kernelspec": {
   "display_name": "Python 3",
   "language": "python",
   "name": "python3"
  },
  "language_info": {
   "codemirror_mode": {
    "name": "ipython",
    "version": 3
   },
   "file_extension": ".py",
   "mimetype": "text/x-python",
   "name": "python",
   "nbconvert_exporter": "python",
   "pygments_lexer": "ipython3",
   "version": "3.7.6"
  }
 },
 "nbformat": 4,
 "nbformat_minor": 4
}

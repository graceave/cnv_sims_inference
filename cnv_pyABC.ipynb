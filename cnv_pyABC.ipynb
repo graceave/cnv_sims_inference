{
 "cells": [
  {
   "cell_type": "code",
   "execution_count": 1,
   "metadata": {},
   "outputs": [],
   "source": [
    "import random\n",
    "\n",
    "%matplotlib inline\n",
    "import matplotlib as mpl\n",
    "import matplotlib.pyplot as plt\n",
    "import numpy as np\n",
    "from numpy.random import normal\n",
    "import scipy.stats\n",
    "import sympy\n",
    "import seaborn as sns\n",
    "import pandas as pd\n",
    "import numba\n",
    "from scipy.stats import entropy\n",
    "import os\n",
    "import tempfile\n",
    "import logging\n",
    "\n",
    "from pyabc import ABCSMC, RV, Distribution\n",
    "from pyabc.distance import AdaptivePNormDistance, PercentileDistance\n",
    "\n",
    "from pyabc.sampler import SingleCoreSampler\n",
    "from pyabc.visualization import plot_kde_1d, plot_kde_2d\n",
    "\n",
    "from cnv_simulation import CNVsimulator_simpleWF, CNVsimulator_simpleChemo"
   ]
  },
  {
   "cell_type": "markdown",
   "metadata": {},
   "source": [
    "First, define the simulator.  \n",
    "N = population size  \n",
    "s_cnv = fitness benefit of CNVs  \n",
    "s_snv = fitness benefit of SNVs  \n",
    "m_cnv = probability mutation to CNV  \n",
    "m_snv = probability mutation to SNV\n"
   ]
  },
  {
   "cell_type": "markdown",
   "metadata": {},
   "source": [
    "\"Observed data\"  \n",
    "Using simulations with known parameters for observed data.  "
   ]
  },
  {
   "cell_type": "code",
   "execution_count": 2,
   "metadata": {},
   "outputs": [],
   "source": [
    "# pop size, fitness SNVs, mutation rate SNVs, number of generations\n",
    "N = 3e8\n",
    "s_snv=0.002  # Venkataram et al. 2016\n",
    "m_snv=1.67e-10 #SNV mutation rate: 1.67 x 10^-10 per base per generation (Zhu et al. 2014)\n",
    "generation = np.array(range(0,268))\n",
    "seed_true = 1\n",
    "# true parameters\n",
    "true_params = np.log10(np.array([.1, 1e-5]))\n",
    "labels_params = ['CNV fitness effect', 'CNV mutation rate']"
   ]
  },
  {
   "cell_type": "markdown",
   "metadata": {},
   "source": [
    "First, let's see how it does with Wright-Fisher"
   ]
  },
  {
   "cell_type": "code",
   "execution_count": 3,
   "metadata": {},
   "outputs": [],
   "source": [
    "model=\"WF\"\n",
    "# our actual observation\n",
    "data_observed_WF = CNVsimulator_simpleWF(N=N, s_snv=s_snv, m_snv=m_snv, generation=generation, seed=seed_true, cnv_params=true_params)\n",
    "exp_gen = ['25', '33', '41', '54', '62', '70', '79', '87', '95', '103', '116',\n",
    "       '124', '132', '145', '153', '161', '174', '182', '190', '211',\n",
    "       '219', '232', '244', '257', '267']\n",
    "dict_observed_WF = {}\n",
    "i = 0\n",
    "for keys in exp_gen: \n",
    "    dict_observed_WF[keys] = data_observed_WF[i]\n",
    "    i+=1"
   ]
  },
  {
   "cell_type": "markdown",
   "metadata": {},
   "source": [
    "Wrapper, pyABC requires simulation to return a dictionary"
   ]
  },
  {
   "cell_type": "code",
   "execution_count": 4,
   "metadata": {},
   "outputs": [],
   "source": [
    "def simulate_pyabc(parameters, N=N, s_snv=s_snv, m_snv=m_snv, generation=generation, model=model):\n",
    "    if model == \"WF\":\n",
    "        res = CNVsimulator_simpleWF(N=N, s_snv=s_snv, m_snv=m_snv, generation=generation, parameters=parameters)\n",
    "    if model == \"Chemo\":\n",
    "        res = CNVsimulator_simpleChemo(A_inoc=A_inoc, S_init=S_init, k=k, D=D, μA=μA, m_snv=m_snv, s_snv=s_snv, I=I, y=y, τ=τ, parameters=parameters)\n",
    "    exp_gen = ['25', '33', '41', '54', '62', '70', '79', '87', '95', '103', '116',\n",
    "       '124', '132', '145', '153', '161', '174', '182', '190', '211',\n",
    "       '219', '232', '244', '257', '267']\n",
    "    pyabc_dict = {}\n",
    "    i = 0\n",
    "    for keys in exp_gen: \n",
    "        pyabc_dict[keys] = res[i]\n",
    "        i+=1\n",
    "    return pyabc_dict"
   ]
  },
  {
   "cell_type": "markdown",
   "metadata": {},
   "source": [
    "Prior over model parameters. Model parameters are CNV fitness effects and CNV mutation rates. Will use a uniform distribution over the log of the priors."
   ]
  },
  {
   "cell_type": "code",
   "execution_count": 5,
   "metadata": {},
   "outputs": [],
   "source": [
    "prior = Distribution(\n",
    "    s=RV(\"uniform\", np.log10(1e-4), np.log10(0.3)-np.log10(1e-4)),\n",
    "    m=RV(\"uniform\", np.log10(1e-12), np.log10(1e-3)-np.log10(1e-12))\n",
    ")"
   ]
  },
  {
   "cell_type": "markdown",
   "metadata": {},
   "source": [
    "Create the ABCSMC object, given the model, the prior, and the distance function $\\rho$, which we set to AdaptivePNormDistance which is the adaptive Euclidean distance."
   ]
  },
  {
   "cell_type": "code",
   "execution_count": 6,
   "metadata": {},
   "outputs": [],
   "source": [
    "abc = ABCSMC(models=simulate_pyabc,\n",
    "             parameter_priors=prior,\n",
    "             distance_function=AdaptivePNormDistance(p=2),\n",
    "             sampler=SingleCoreSampler(),\n",
    "             population_size=5000)"
   ]
  },
  {
   "cell_type": "code",
   "execution_count": 7,
   "metadata": {},
   "outputs": [
    {
     "name": "stderr",
     "output_type": "stream",
     "text": [
      "INFO:History:Start <ABCSMC(id=6, start_time=2020-09-30 10:22:27.267240, end_time=None)>\n"
     ]
    }
   ],
   "source": [
    "# and we define where to store the results\n",
    "db_path_WF = (\"sqlite:///\" +\n",
    "           os.path.join(tempfile.gettempdir(), \"WF.db\"))\n",
    "history_WF = abc.new(db_path_WF, dict_observed_WF)"
   ]
  },
  {
   "cell_type": "code",
   "execution_count": 8,
   "metadata": {},
   "outputs": [
    {
     "name": "stdout",
     "output_type": "stream",
     "text": [
      "ABC-SMC run ID: 6\n"
     ]
    }
   ],
   "source": [
    "print(\"ABC-SMC run ID:\", history_WF.id)"
   ]
  },
  {
   "cell_type": "code",
   "execution_count": 9,
   "metadata": {},
   "outputs": [
    {
     "name": "stderr",
     "output_type": "stream",
     "text": [
      "INFO:ABC:Calibration sample before t=0.\n",
      "INFO:Epsilon:initial epsilon is 1.8937664591278\n",
      "INFO:ABC:t: 0, eps: 1.8937664591278.\n",
      "INFO:ABC:Acceptance rate: 5000 / 9986 = 5.0070e-01, ESS=5.0000e+03.\n",
      "INFO:ABC:t: 1, eps: 1.954740378510974.\n",
      "INFO:numexpr.utils:Note: NumExpr detected 12 cores but \"NUMEXPR_MAX_THREADS\" not set, so enforcing safe limit of 8.\n",
      "INFO:numexpr.utils:NumExpr defaulting to 8 threads.\n",
      "INFO:ABC:Acceptance rate: 5000 / 11114 = 4.4988e-01, ESS=4.6860e+03.\n",
      "INFO:ABC:t: 2, eps: 0.8354575217547254.\n",
      "INFO:ABC:Acceptance rate: 5000 / 10259 = 4.8738e-01, ESS=4.2222e+03.\n",
      "INFO:ABC:t: 3, eps: 0.4700155117113778.\n",
      "INFO:ABC:Acceptance rate: 5000 / 10070 = 4.9652e-01, ESS=4.6954e+03.\n",
      "INFO:ABC:t: 4, eps: 0.13837670373889505.\n",
      "INFO:ABC:Acceptance rate: 5000 / 9955 = 5.0226e-01, ESS=4.7493e+03.\n",
      "INFO:ABC:Stopping: minimum epsilon.\n",
      "INFO:History:Done <ABCSMC(id=6, start_time=2020-09-30 10:22:27.267240, end_time=2020-09-30 10:34:37.361538)>\n"
     ]
    }
   ],
   "source": [
    "# We run the ABC until either criterion is met\n",
    "history_WF = abc.run(minimum_epsilon=0.2, max_nr_populations=5)"
   ]
  },
  {
   "cell_type": "code",
   "execution_count": 10,
   "metadata": {},
   "outputs": [
    {
     "data": {
      "text/html": [
       "<div>\n",
       "<style scoped>\n",
       "    .dataframe tbody tr th:only-of-type {\n",
       "        vertical-align: middle;\n",
       "    }\n",
       "\n",
       "    .dataframe tbody tr th {\n",
       "        vertical-align: top;\n",
       "    }\n",
       "\n",
       "    .dataframe thead th {\n",
       "        text-align: right;\n",
       "    }\n",
       "</style>\n",
       "<table border=\"1\" class=\"dataframe\">\n",
       "  <thead>\n",
       "    <tr style=\"text-align: right;\">\n",
       "      <th>name</th>\n",
       "      <th>m</th>\n",
       "      <th>s</th>\n",
       "    </tr>\n",
       "    <tr>\n",
       "      <th>id</th>\n",
       "      <th></th>\n",
       "      <th></th>\n",
       "    </tr>\n",
       "  </thead>\n",
       "  <tbody>\n",
       "    <tr>\n",
       "      <th>95007</th>\n",
       "      <td>-7.313801</td>\n",
       "      <td>-0.698584</td>\n",
       "    </tr>\n",
       "    <tr>\n",
       "      <th>95008</th>\n",
       "      <td>-7.797696</td>\n",
       "      <td>-0.785625</td>\n",
       "    </tr>\n",
       "    <tr>\n",
       "      <th>95009</th>\n",
       "      <td>-5.722500</td>\n",
       "      <td>-0.976858</td>\n",
       "    </tr>\n",
       "    <tr>\n",
       "      <th>95010</th>\n",
       "      <td>-4.950134</td>\n",
       "      <td>-0.966957</td>\n",
       "    </tr>\n",
       "    <tr>\n",
       "      <th>95011</th>\n",
       "      <td>-6.601721</td>\n",
       "      <td>-0.918947</td>\n",
       "    </tr>\n",
       "  </tbody>\n",
       "</table>\n",
       "</div>"
      ],
      "text/plain": [
       "name          m         s\n",
       "id                       \n",
       "95007 -7.313801 -0.698584\n",
       "95008 -7.797696 -0.785625\n",
       "95009 -5.722500 -0.976858\n",
       "95010 -4.950134 -0.966957\n",
       "95011 -6.601721 -0.918947"
      ]
     },
     "execution_count": 10,
     "metadata": {},
     "output_type": "execute_result"
    }
   ],
   "source": [
    "params, weights = history_WF.get_distribution(0)\n",
    "params.head()"
   ]
  },
  {
   "cell_type": "code",
   "execution_count": 11,
   "metadata": {},
   "outputs": [
    {
     "data": {
      "image/png": "[encoded data removed]",
      "text/plain": [
       "<Figure size 864x288 with 2 Axes>"
      ]
     },
     "metadata": {
      "needs_background": "light"
     },
     "output_type": "display_data"
    }
   ],
   "source": [
    "fig, axes = plt.subplots(1, 2, figsize=(12, 4))\n",
    "\n",
    "for param_name, param_real_value, ax in zip(['s', 'm'], true_params, axes.flat):\n",
    "    sns.distplot(params[param_name], hist_kws=dict(weights=weights), ax=ax)\n",
    "    ax.axvline(param_real_value, color='red')\n",
    "    ax.axvline(params[param_name].values @ weights, color='red', ls='--')\n",
    "    ax.set(xlabel=param_name, ylabel='Posterior', title=\"WF posterior\")\n",
    "\n",
    "fig.tight_layout()"
   ]
  },
  {
   "cell_type": "code",
   "execution_count": 12,
   "metadata": {},
   "outputs": [
    {
     "name": "stdout",
     "output_type": "stream",
     "text": [
      "Optimization terminated successfully.\n",
      "         Current function value: -1.237196\n",
      "         Iterations: 30\n",
      "         Function evaluations: 57\n"
     ]
    },
    {
     "data": {
      "image/png": "[encoded data removed]",
      "text/plain": [
       "<Figure size 432x288 with 2 Axes>"
      ]
     },
     "metadata": {
      "needs_background": "light"
     },
     "output_type": "display_data"
    }
   ],
   "source": [
    "red, blue, green = sns.color_palette('Set1', 3)\n",
    "\n",
    "prior_min = np.log10(np.array([1e-4,1e-12]))\n",
    "prior_max = np.log10(np.array([0.3,1e-3]))\n",
    "\n",
    "s_range, μ_range = np.mgrid[np.log10(1e-4):np.log10(0.3):100j, np.log10(1e-12):np.log10(1e-3):100j]\n",
    "positions = np.vstack([s_range.ravel(), μ_range.ravel()])\n",
    "values = np.vstack([params['s'], params['m']])\n",
    "kernel = scipy.stats.gaussian_kde(values)\n",
    "density = np.reshape(kernel(positions).T, s_range.shape)\n",
    "\n",
    "\n",
    "#estimates for parameters from the posterior (MAP - highest probability in posterior)\n",
    "idx = np.argmax(density, axis=None)\n",
    "param_guess = np.array([positions[0,idx],positions[1,idx]])\n",
    "def kernelminus(x):\n",
    "    return -kernel(x)\n",
    "s_est, μ_est = scipy.optimize.minimize(kernelminus,param_guess, method ='Nelder-Mead', \n",
    " options={'disp': True}).x\n",
    "\n",
    "#fig, axes = plt.subplots(1, 1, figsize=(10, 10))\n",
    "plt.pcolormesh(μ_range, s_range, density)\n",
    "plt.colorbar()\n",
    "plt.plot(true_params[1],true_params[0], color=red, marker='o', label=\"simulation parameter\", alpha=0.5)\n",
    "plt.plot(μ_est, s_est, color=\"k\", marker='o', label=\"MAP estimate\", alpha=0.5)\n",
    "plt.legend(loc='lower left')\n",
    "plt.xlabel('log10(CNV mutation rate)')\n",
    "plt.ylabel('log10(CNV fitness effect)')\n",
    "plt.title(\"WF ABC joint posterior distribution\")\n",
    "plt.savefig(\"WF_ABC_posterior.pdf\")"
   ]
  },
  {
   "cell_type": "markdown",
   "metadata": {},
   "source": [
    "Now with a chemostat model  \n",
    "Additional parameters describing the chemostat are needed for this model"
   ]
  },
  {
   "cell_type": "code",
   "execution_count": 13,
   "metadata": {},
   "outputs": [],
   "source": [
    "A_inoc = 1e5\n",
    "S_init = .800\n",
    "D=0.12\n",
    "μA=0.45\n",
    "k=.103\n",
    "y=3244500\n",
    "I=.800\n",
    "τ=1/10\n",
    "\n",
    "model=\"Chemo\"\n",
    "# our actual observation\n",
    "data_observed_Chemo = CNVsimulator_simpleChemo(A_inoc=A_inoc, S_init=S_init, k=k, D=D, μA=μA, m_snv=m_snv, s_snv=s_snv, I=I, y=y, τ=τ, seed=seed_true, cnv_params=true_params)\n",
    "exp_gen = ['25', '33', '41', '54', '62', '70', '79', '87', '95', '103', '116',\n",
    "       '124', '132', '145', '153', '161', '174', '182', '190', '211',\n",
    "       '219', '232', '244', '257', '267']\n",
    "dict_observed_Chemo = {}\n",
    "i = 0\n",
    "for keys in exp_gen: \n",
    "    dict_observed_Chemo[keys] = data_observed_Chemo[i]\n",
    "    i+=1"
   ]
  },
  {
   "cell_type": "markdown",
   "metadata": {},
   "source": [
    "Wrapper, pyABC requires simulation to return a dictionary"
   ]
  },
  {
   "cell_type": "code",
   "execution_count": 14,
   "metadata": {},
   "outputs": [],
   "source": [
    "def simulate_pyabc(parameters, N=N, s_snv=s_snv, m_snv=m_snv, generation=generation, model=model):\n",
    "    if model == \"WF\":\n",
    "        res = CNVsimulator_simpleWF(N=N, s_snv=s_snv, m_snv=m_snv, generation=generation, parameters=parameters)\n",
    "    if model == \"Chemo\":\n",
    "        res = CNVsimulator_simpleChemo(A_inoc=A_inoc, S_init=S_init, k=k, D=D, μA=μA, m_snv=m_snv, s_snv=s_snv, I=I, y=y, τ=τ, parameters=parameters)\n",
    "    exp_gen = ['25', '33', '41', '54', '62', '70', '79', '87', '95', '103', '116',\n",
    "       '124', '132', '145', '153', '161', '174', '182', '190', '211',\n",
    "       '219', '232', '244', '257', '267']\n",
    "    pyabc_dict = {}\n",
    "    i = 0\n",
    "    for keys in exp_gen: \n",
    "        pyabc_dict[keys] = res[i]\n",
    "        i+=1\n",
    "    return pyabc_dict"
   ]
  },
  {
   "cell_type": "markdown",
   "metadata": {},
   "source": [
    "Create the ABCSMC object, given the model, the prior, and the distance function $\\rho$, which we set to AdaptivePNormDistance which is the adaptive Euclidean distance."
   ]
  },
  {
   "cell_type": "code",
   "execution_count": 15,
   "metadata": {},
   "outputs": [],
   "source": [
    "abc = ABCSMC(models=simulate_pyabc,\n",
    "             parameter_priors=prior,\n",
    "             distance_function=AdaptivePNormDistance(p=2),\n",
    "             sampler=SingleCoreSampler(),\n",
    "             population_size=1000) # pop size reduced for notebook (because run locally)"
   ]
  },
  {
   "cell_type": "code",
   "execution_count": 16,
   "metadata": {},
   "outputs": [
    {
     "name": "stderr",
     "output_type": "stream",
     "text": [
      "INFO:History:Start <ABCSMC(id=6, start_time=2020-09-30 10:34:49.842817, end_time=None)>\n"
     ]
    },
    {
     "name": "stdout",
     "output_type": "stream",
     "text": [
      "ABC-SMC run ID: 6\n"
     ]
    }
   ],
   "source": [
    "# and we define where to store the results\n",
    "db_path_Chemo = (\"sqlite:///\" +\n",
    "           os.path.join(tempfile.gettempdir(), \"Chemo.db\"))\n",
    "history_Chemo = abc.new(db_path_Chemo, dict_observed_Chemo)\n",
    "print(\"ABC-SMC run ID:\", history_Chemo.id)"
   ]
  },
  {
   "cell_type": "code",
   "execution_count": 17,
   "metadata": {},
   "outputs": [
    {
     "name": "stderr",
     "output_type": "stream",
     "text": [
      "INFO:ABC:Calibration sample before t=0.\n",
      "INFO:Epsilon:initial epsilon is 0.0017668904083898112\n",
      "INFO:ABC:t: 0, eps: 0.0017668904083898112.\n",
      "INFO:ABC:Acceptance rate: 1000 / 1230 = 8.1301e-01, ESS=1.0000e+03.\n",
      "INFO:ABC:Stopping: minimum epsilon.\n",
      "INFO:History:Done <ABCSMC(id=6, start_time=2020-09-30 10:34:49.842817, end_time=2020-10-01 09:31:37.739631)>\n"
     ]
    }
   ],
   "source": [
    "# We run the ABC until either criterion is met\n",
    "history_Chemo = abc.run(minimum_epsilon=0.2, max_nr_populations=2) # num pops reduced because run locally"
   ]
  },
  {
   "cell_type": "code",
   "execution_count": 18,
   "metadata": {},
   "outputs": [
    {
     "data": {
      "text/html": [
       "<div>\n",
       "<style scoped>\n",
       "    .dataframe tbody tr th:only-of-type {\n",
       "        vertical-align: middle;\n",
       "    }\n",
       "\n",
       "    .dataframe tbody tr th {\n",
       "        vertical-align: top;\n",
       "    }\n",
       "\n",
       "    .dataframe thead th {\n",
       "        text-align: right;\n",
       "    }\n",
       "</style>\n",
       "<table border=\"1\" class=\"dataframe\">\n",
       "  <thead>\n",
       "    <tr style=\"text-align: right;\">\n",
       "      <th>name</th>\n",
       "      <th>m</th>\n",
       "      <th>s</th>\n",
       "    </tr>\n",
       "    <tr>\n",
       "      <th>id</th>\n",
       "      <th></th>\n",
       "      <th></th>\n",
       "    </tr>\n",
       "  </thead>\n",
       "  <tbody>\n",
       "    <tr>\n",
       "      <th>7</th>\n",
       "      <td>-11.745599</td>\n",
       "      <td>-3.822724</td>\n",
       "    </tr>\n",
       "    <tr>\n",
       "      <th>8</th>\n",
       "      <td>-8.264346</td>\n",
       "      <td>-1.552104</td>\n",
       "    </tr>\n",
       "    <tr>\n",
       "      <th>9</th>\n",
       "      <td>-9.232474</td>\n",
       "      <td>-2.207553</td>\n",
       "    </tr>\n",
       "    <tr>\n",
       "      <th>10</th>\n",
       "      <td>-4.812432</td>\n",
       "      <td>-2.230714</td>\n",
       "    </tr>\n",
       "    <tr>\n",
       "      <th>11</th>\n",
       "      <td>-5.633922</td>\n",
       "      <td>-1.138567</td>\n",
       "    </tr>\n",
       "  </tbody>\n",
       "</table>\n",
       "</div>"
      ],
      "text/plain": [
       "name          m         s\n",
       "id                       \n",
       "7    -11.745599 -3.822724\n",
       "8     -8.264346 -1.552104\n",
       "9     -9.232474 -2.207553\n",
       "10    -4.812432 -2.230714\n",
       "11    -5.633922 -1.138567"
      ]
     },
     "execution_count": 18,
     "metadata": {},
     "output_type": "execute_result"
    }
   ],
   "source": [
    "params, weights = history_Chemo.get_distribution(0)\n",
    "params.head()"
   ]
  },
  {
   "cell_type": "code",
   "execution_count": 20,
   "metadata": {},
   "outputs": [
    {
     "data": {
      "image/png": "[encoded data removed]",
      "text/plain": [
       "<Figure size 864x288 with 2 Axes>"
      ]
     },
     "metadata": {
      "needs_background": "light"
     },
     "output_type": "display_data"
    }
   ],
   "source": [
    "fig, axes = plt.subplots(1, 2, figsize=(12, 4))\n",
    "\n",
    "for param_name, param_real_value, ax in zip(['s', 'm'], true_params, axes.flat):\n",
    "    sns.distplot(params[param_name], hist_kws=dict(weights=weights), ax=ax)\n",
    "    ax.axvline(param_real_value, color='red')\n",
    "    ax.axvline(params[param_name].values @ weights, color='red', ls='--')\n",
    "    ax.set(xlabel=param_name, ylabel='Posterior', title=\"Chemostat posterior\")\n",
    "\n",
    "fig.tight_layout()"
   ]
  },
  {
   "cell_type": "code",
   "execution_count": 21,
   "metadata": {},
   "outputs": [
    {
     "name": "stderr",
     "output_type": "stream",
     "text": [
      "ERROR:root:Internal Python error in the inspect module.\n",
      "Below is the traceback from this internal error.\n",
      "\n",
      "INFO:root:\n",
      "Unfortunately, your original traceback can not be constructed.\n",
      "\n"
     ]
    },
    {
     "name": "stdout",
     "output_type": "stream",
     "text": [
      "Optimization terminated successfully.\n",
      "         Current function value: -0.046573\n",
      "         Iterations: 24\n",
      "         Function evaluations: 48\n",
      "Traceback (most recent call last):\n",
      "  File \"/Users/graceavecilla/opt/anaconda3/lib/python3.7/site-packages/IPython/core/interactiveshell.py\", line 3331, in run_code\n",
      "    exec(code_obj, self.user_global_ns, self.user_ns)\n",
      "  File \"<ipython-input-21-028bf12727f4>\", line 30, in <module>\n",
      "    plt.savefig(\"Chemostat_ABC_posterior.pdf\")\n",
      "  File \"/Users/graceavecilla/opt/anaconda3/lib/python3.7/site-packages/matplotlib/pyplot.py\", line 729, in savefig\n",
      "    res = fig.savefig(*args, **kwargs)\n",
      "  File \"/Users/graceavecilla/opt/anaconda3/lib/python3.7/site-packages/matplotlib/figure.py\", line 2180, in savefig\n",
      "    self.canvas.print_figure(fname, **kwargs)\n",
      "  File \"/Users/graceavecilla/opt/anaconda3/lib/python3.7/site-packages/matplotlib/backend_bases.py\", line 2091, in print_figure\n",
      "    **kwargs)\n",
      "  File \"/Users/graceavecilla/opt/anaconda3/lib/python3.7/site-packages/matplotlib/backends/backend_pdf.py\", line 2496, in print_pdf\n",
      "    file = PdfFile(filename, metadata=metadata)\n",
      "  File \"/Users/graceavecilla/opt/anaconda3/lib/python3.7/site-packages/matplotlib/backends/backend_pdf.py\", line 432, in __init__\n",
      "    fh, opened = cbook.to_filehandle(filename, \"wb\", return_opened=True)\n",
      "  File \"/Users/graceavecilla/opt/anaconda3/lib/python3.7/site-packages/matplotlib/cbook/__init__.py\", line 432, in to_filehandle\n",
      "    fh = open(fname, flag, encoding=encoding)\n",
      "FileNotFoundError: [Errno 2] No such file or directory: 'Chemostat_ABC_posterior.pdf'\n",
      "\n",
      "During handling of the above exception, another exception occurred:\n",
      "\n",
      "Traceback (most recent call last):\n",
      "  File \"/Users/graceavecilla/opt/anaconda3/lib/python3.7/site-packages/IPython/core/interactiveshell.py\", line 2044, in showtraceback\n",
      "    stb = value._render_traceback_()\n",
      "AttributeError: 'FileNotFoundError' object has no attribute '_render_traceback_'\n",
      "\n",
      "During handling of the above exception, another exception occurred:\n",
      "\n",
      "Traceback (most recent call last):\n",
      "  File \"/Users/graceavecilla/opt/anaconda3/lib/python3.7/site-packages/IPython/core/ultratb.py\", line 1151, in get_records\n",
      "    return _fixed_getinnerframes(etb, number_of_lines_of_context, tb_offset)\n",
      "  File \"/Users/graceavecilla/opt/anaconda3/lib/python3.7/site-packages/IPython/core/ultratb.py\", line 319, in wrapped\n",
      "    return f(*args, **kwargs)\n",
      "  File \"/Users/graceavecilla/opt/anaconda3/lib/python3.7/site-packages/IPython/core/ultratb.py\", line 353, in _fixed_getinnerframes\n",
      "    records = fix_frame_records_filenames(inspect.getinnerframes(etb, context))\n",
      "  File \"/Users/graceavecilla/opt/anaconda3/lib/python3.7/inspect.py\", line 1502, in getinnerframes\n",
      "    frameinfo = (tb.tb_frame,) + getframeinfo(tb, context)\n",
      "  File \"/Users/graceavecilla/opt/anaconda3/lib/python3.7/inspect.py\", line 1460, in getframeinfo\n",
      "    filename = getsourcefile(frame) or getfile(frame)\n",
      "  File \"/Users/graceavecilla/opt/anaconda3/lib/python3.7/inspect.py\", line 696, in getsourcefile\n",
      "    if getattr(getmodule(object, filename), '__loader__', None) is not None:\n",
      "  File \"/Users/graceavecilla/opt/anaconda3/lib/python3.7/inspect.py\", line 725, in getmodule\n",
      "    file = getabsfile(object, _filename)\n",
      "  File \"/Users/graceavecilla/opt/anaconda3/lib/python3.7/inspect.py\", line 709, in getabsfile\n",
      "    return os.path.normcase(os.path.abspath(_filename))\n",
      "  File \"/Users/graceavecilla/opt/anaconda3/lib/python3.7/posixpath.py\", line 383, in abspath\n",
      "    cwd = os.getcwd()\n",
      "FileNotFoundError: [Errno 2] No such file or directory\n"
     ]
    },
    {
     "ename": "FileNotFoundError",
     "evalue": "[Errno 2] No such file or directory: 'Chemostat_ABC_posterior.pdf'",
     "output_type": "error",
     "traceback": [
      "\u001b[0;31m---------------------------------------------------------------------------\u001b[0m"
     ]
    },
    {
     "data": {
      "image/png": "[encoded data removed]",
      "text/plain": [
       "<Figure size 432x288 with 2 Axes>"
      ]
     },
     "metadata": {
      "needs_background": "light"
     },
     "output_type": "display_data"
    }
   ],
   "source": [
    "red, blue, green = sns.color_palette('Set1', 3)\n",
    "\n",
    "prior_min = np.log10(np.array([1e-4,1e-12]))\n",
    "prior_max = np.log10(np.array([0.3,1e-3]))\n",
    "\n",
    "s_range, μ_range = np.mgrid[np.log10(1e-4):np.log10(0.3):100j, np.log10(1e-12):np.log10(1e-3):100j]\n",
    "positions = np.vstack([s_range.ravel(), μ_range.ravel()])\n",
    "values = np.vstack([params['s'], params['m']])\n",
    "kernel = scipy.stats.gaussian_kde(values)\n",
    "density = np.reshape(kernel(positions).T, s_range.shape)\n",
    "\n",
    "\n",
    "#estimates for parameters from the posterior (MAP - highest probability in posterior)\n",
    "idx = np.argmax(density, axis=None)\n",
    "param_guess = np.array([positions[0,idx],positions[1,idx]])\n",
    "def kernelminus(x):\n",
    "    return -kernel(x)\n",
    "s_est, μ_est = scipy.optimize.minimize(kernelminus,param_guess, method ='Nelder-Mead', \n",
    " options={'disp': True}).x\n",
    "\n",
    "#fig, axes = plt.subplots(1, 1, figsize=(10, 10))\n",
    "plt.pcolormesh(μ_range, s_range, density)\n",
    "plt.colorbar()\n",
    "plt.plot(true_params[1],true_params[0], color=red, marker='o', label=\"simulation parameter\", alpha=0.5)\n",
    "plt.plot(μ_est, s_est, color=\"k\", marker='o', label=\"MAP estimate\", alpha=0.5)\n",
    "plt.legend(loc='lower left')\n",
    "plt.xlabel('log10(CNV mutation rate)')\n",
    "plt.ylabel('log10(CNV fitness effect)')\n",
    "plt.title(\"Chemostat ABC joint posterior distribution\")\n",
    "plt.savefig(\"Chemostat_ABC_posterior.pdf\")"
   ]
  },
  {
   "cell_type": "code",
   "execution_count": null,
   "metadata": {},
   "outputs": [],
   "source": []
  }
 ],
 "metadata": {
  "kernelspec": {
   "display_name": "Python 3",
   "language": "python",
   "name": "python3"
  },
  "language_info": {
   "codemirror_mode": {
    "name": "ipython",
    "version": 3
   },
   "file_extension": ".py",
   "mimetype": "text/x-python",
   "name": "python",
   "nbconvert_exporter": "python",
   "pygments_lexer": "ipython3",
   "version": "3.7.6"
  }
 },
 "nbformat": 4,
 "nbformat_minor": 4
}

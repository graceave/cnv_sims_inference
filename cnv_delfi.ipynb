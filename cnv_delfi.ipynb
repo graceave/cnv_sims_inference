{
 "cells": [
  {
   "cell_type": "code",
   "execution_count": 1,
   "metadata": {},
   "outputs": [],
   "source": [
    "#LOCAL\n",
    "import random\n",
    "\n",
    "%matplotlib inline\n",
    "import matplotlib as mpl\n",
    "import matplotlib.pyplot as plt\n",
    "import numpy as np\n",
    "from numpy.random import normal\n",
    "import scipy.stats\n",
    "import scipy.optimize\n",
    "import sympy\n",
    "import seaborn as sns\n",
    "import pandas as pd\n",
    "import numba\n",
    "from scipy.stats import entropy\n",
    "from scipy.spatial import ConvexHull\n",
    "from matplotlib.path import Path\n",
    "\n",
    "red, blue, green = sns.color_palette('Set1', 3)\n",
    "from cnv_simulation import CNVsimulator_simpleWF, CNVsimulator_simpleChemo"
   ]
  },
  {
   "cell_type": "markdown",
   "metadata": {},
   "source": [
    "First, define the simulator.  \n",
    "N = population size  \n",
    "s_cnv = fitness benefit of CNVs  \n",
    "s_snv = fitness benefit of SNVs  \n",
    "m_cnv = probability mutation to CNV  \n",
    "m_snv = probability mutation to SNV"
   ]
  },
  {
   "cell_type": "markdown",
   "metadata": {},
   "source": [
    "Define a delfi simulator class linking to the simulator:\n",
    "\n",
    "*note: could build this to have a burn in period to simulate standing variation*"
   ]
  },
  {
   "cell_type": "code",
   "execution_count": 19,
   "metadata": {},
   "outputs": [],
   "source": [
    "from delfi.simulator.BaseSimulator import BaseSimulator\n",
    "\n",
    "class CNVevo(BaseSimulator):\n",
    "    def __init__(self, N, s_snv, m_snv, generation, EvoModel, seed=None):\n",
    "        \"\"\" CNV evolution simulator\n",
    "        Simulates CNV and SNV evolution for 267 generations\n",
    "        Returns proportion of the population with a CNV per generation as 1d np.array of length 267\n",
    "    \n",
    "        Parameters\n",
    "        -------------------\n",
    "        N : int\n",
    "            population size  \n",
    "        s_snv : float\n",
    "            fitness benefit of SNVs  \n",
    "        m_snv : float \n",
    "            probability mutation to SNV\n",
    "        gen : np.array, 1d \n",
    "            with generations 0 through the end of simulation\n",
    "        EvoModel : str\n",
    "            whether to use WF or chemostat\n",
    "        seed : int or None\n",
    "            If set, randomness across runs is disabled\n",
    "        \"\"\"\n",
    "        dim_param = 2\n",
    "\n",
    "        super().__init__(dim_param=dim_param, seed=seed)\n",
    "        self.N = N\n",
    "        self.s_snv = s_snv\n",
    "        self.m_snv = m_snv\n",
    "        self.generation = generation\n",
    "        self.CNVsimulator_simpleWF = CNVsimulator_simpleWF\n",
    "        self.CNVsimulator_simpleChemo = CNVsimulator_simpleChemo\n",
    "        self.EvoModel = EvoModel\n",
    "        \n",
    "\n",
    "    def gen_single(self, cnv_params):\n",
    "        \"\"\"Forward model for simulator for single parameter set\n",
    "\n",
    "        Parameters\n",
    "        ----------\n",
    "        params : list or np.array, 1d of length dim_param\n",
    "            Parameter vector\n",
    "\n",
    "        Returns\n",
    "        -------\n",
    "        dict : dictionary with data\n",
    "            The dictionary must contain a key data that contains the results of\n",
    "            the forward run. Additional entries can be present.\n",
    "        \"\"\"\n",
    "        params = np.asarray(cnv_params)\n",
    "\n",
    "        assert params.ndim == 1, 'params.ndim must be 1'\n",
    "\n",
    "        sim_seed = self.gen_newseed()\n",
    "        \n",
    "        if self.EvoModel == \"WF\":\n",
    "            states = self.CNVsimulator_simpleWF(N=N, s_snv=s_snv, m_snv=m_snv, generation=generation, seed=sim_seed, cnv_params=cnv_params)\n",
    "        if self.EvoModel == \"Chemo\":\n",
    "            states = self.CNVsimulator_simpleChemo(A_inoculation=A_inoculation, S_init=S_init, k=k, D=D, μA=μA, m_snv=m_snv, s_snv=s_snv, S0=S0, y=y, τ=τ, seed=sim_seed, cnv_params=cnv_params)\n",
    "        \n",
    "        return {'data': states.reshape(-1),\n",
    "                'generation': np.array([25,33,41,54,62,70,79,87,95,103,116,124,132,145,153,161,174,182,190,211,219,232,244,257,267]),\n",
    "                's_snv': self.s_snv,\n",
    "                'm_snv': self.m_snv,\n",
    "                'N': self.N}"
   ]
  },
  {
   "cell_type": "markdown",
   "metadata": {},
   "source": [
    "Prior over model parameters. Model parameters are CNV fitness effects and CNV mutation rates. Will use a uniform distribution."
   ]
  },
  {
   "cell_type": "code",
   "execution_count": 3,
   "metadata": {},
   "outputs": [],
   "source": [
    "import delfi.distribution as dd\n",
    "\n",
    "seed_p = 2\n",
    "prior_min = np.log10(np.array([1e-4,1e-12]))\n",
    "prior_max = np.log10(np.array([0.3,1e-3]))\n",
    "prior = dd.Uniform(lower=prior_min, upper=prior_max,seed=seed_p)"
   ]
  },
  {
   "cell_type": "markdown",
   "metadata": {},
   "source": [
    "\"Summary statistics\" here will be the proportion of the population each of the 25 timepoints that were measured in Lauer et al. 2018."
   ]
  },
  {
   "cell_type": "code",
   "execution_count": 4,
   "metadata": {},
   "outputs": [],
   "source": [
    "from delfi.summarystats.BaseSummaryStats import BaseSummaryStats\n",
    "from scipy import stats as spstats\n",
    "\n",
    "class CNVStats(BaseSummaryStats):\n",
    "    \"\"\"Moment based SummaryStats class for the CNV evolution model\n",
    "\n",
    "    Calculates summary statistics\n",
    "    \"\"\"\n",
    "    def __init__(self, n_summary=25, seed=None):\n",
    "        \"\"\"See SummaryStats.py for docstring\"\"\"\n",
    "        super(CNVStats, self).__init__(seed=seed)\n",
    "        self.n_summary = n_summary\n",
    "\n",
    "    def calc(self, repetition_list):\n",
    "        \"\"\"Calculate summary statistics\n",
    "\n",
    "        Parameters\n",
    "        ----------\n",
    "        repetition_list : list of dictionaries, one per repetition\n",
    "            data list, returned by `gen` method of Simulator instance\n",
    "\n",
    "        Returns\n",
    "        -------\n",
    "        np.array, 2d with n_reps x n_summary\n",
    "        \"\"\"\n",
    "        #exp_gen = np.array([25,33,41,54,62,70,79,87,95,103,116,124,132,145,153,161,174,182,190,211,219,232,244,257,267])\n",
    "        stats = []\n",
    "        for r in range(len(repetition_list)):\n",
    "            #x = repetition_list[r]\n",
    "            cnv_freq = np.transpose(repetition_list[r]['data'])\n",
    "            #subset = cnv_freq[exp_gen]\n",
    "            stats.append(cnv_freq)\n",
    "\n",
    "        return np.asarray(stats)"
   ]
  },
  {
   "cell_type": "code",
   "execution_count": 5,
   "metadata": {},
   "outputs": [],
   "source": [
    "# pop size, fitness SNVs, mutation rate SNVs, number of generations\n",
    "N = 3e8\n",
    "s_snv=0.002  # Venkataram et al. 2016\n",
    "m_snv=1.67e-10 #SNV mutation rate: 1.67 x 10^-10 per base per generation (Zhu et al. 2014)\n",
    "generation = np.array(range(0,268))\n",
    "\n",
    "# summary statistics hyperparameters\n",
    "n_summary = 25"
   ]
  },
  {
   "cell_type": "markdown",
   "metadata": {},
   "source": [
    "Define a generator class that binds together the simulator classs, the prior over the parameters, and the summary statistics class\n",
    "\n",
    "First, using WF \n",
    "\n",
    "Parallelize for speed when using on the HPC"
   ]
  },
  {
   "cell_type": "code",
   "execution_count": 6,
   "metadata": {},
   "outputs": [],
   "source": [
    "import delfi.generator as dg\n",
    "\n",
    "## for local ##\n",
    "seed_m = 3\n",
    "m_WF = CNVevo(N, s_snv, m_snv, generation, EvoModel=\"WF\", seed=seed_m)\n",
    "s = CNVStats(n_summary = n_summary)\n",
    "g_WF = dg.Default(model=m_WF, prior=prior, summary=s)\n",
    "\n",
    "## for HPC ##\n",
    "# threads\n",
    "#n_processes = 1\n",
    "\n",
    "#seeds_m = np.arange(1,n_processes+1,1)\n",
    "#m = []\n",
    "#s = CNVStats(n_summary = n_summary)\n",
    "#for i in range(n_processes):\n",
    "#    m.append(CNVevo(N, s_snv, m_snv, gen, seed=seeds_m[i]))\n",
    "#g = dg.MPGenerator(models=m, prior=prior, summary=s)"
   ]
  },
  {
   "cell_type": "markdown",
   "metadata": {},
   "source": [
    "Make some observed data and calculate the summary statistics for the observed data"
   ]
  },
  {
   "cell_type": "code",
   "execution_count": 7,
   "metadata": {},
   "outputs": [],
   "source": [
    "# true parameters and respective labels\n",
    "true_params = np.log10(np.array([.1, 1e-5]))\n",
    "labels_params = ['CNV fitness effect', 'CNV mutation rate']\n",
    "\n",
    "# observed data: simulation given true parameters\n",
    "\n",
    "#### this is the multiple observations version #####\n",
    "#obs = []\n",
    "#for i in range(0,25):\n",
    "#    obs.append(m.gen_single(true_params))\n",
    "#####################################################\n",
    "\n",
    "obs_WF = m_WF.gen_single(true_params)"
   ]
  },
  {
   "cell_type": "code",
   "execution_count": 8,
   "metadata": {},
   "outputs": [],
   "source": [
    "#single observation\n",
    "obs_statsWF = s.calc([obs_WF])\n",
    "#obs_stats = np.array(pd.read_csv('PopPropForABC.csv'))[:,8]\n",
    "# >1 observation\n",
    "#obs_stats = s.calc(obs)"
   ]
  },
  {
   "cell_type": "markdown",
   "metadata": {},
   "source": [
    "*Inference with SNPE*   \n",
    "Hyperparamters (using same as in the delfi tutorial)"
   ]
  },
  {
   "cell_type": "code",
   "execution_count": 9,
   "metadata": {},
   "outputs": [],
   "source": [
    "seed_inf = 1\n",
    "\n",
    "pilot_samples = 2000\n",
    "\n",
    "# training schedule\n",
    "n_train = 2000\n",
    "n_rounds = 1\n",
    "\n",
    "# fitting setup\n",
    "minibatch = 256\n",
    "epochs = 100\n",
    "val_frac = 0.05\n",
    "\n",
    "# network setup\n",
    "n_hiddens = [50,50]\n",
    "\n",
    "# convenience\n",
    "prior_norm = True\n",
    "\n",
    "# MAF parameters\n",
    "density = 'maf'\n",
    "n_mades = 5"
   ]
  },
  {
   "cell_type": "markdown",
   "metadata": {},
   "source": [
    "Inference with SNPE-C"
   ]
  },
  {
   "cell_type": "code",
   "execution_count": 10,
   "metadata": {},
   "outputs": [
    {
     "data": {
      "application/vnd.jupyter.widget-view+json": {
       "model_id": "83c84fea88e64ba086878424fa063679",
       "version_major": 2,
       "version_minor": 0
      },
      "text/plain": [
       "HBox(children=(FloatProgress(value=0.0, max=2000.0), HTML(value='')))"
      ]
     },
     "metadata": {},
     "output_type": "display_data"
    },
    {
     "name": "stdout",
     "output_type": "stream",
     "text": [
      "\n"
     ]
    },
    {
     "data": {
      "application/vnd.jupyter.widget-view+json": {
       "model_id": "8912fd798baa401b9de17e71a6abd156",
       "version_major": 2,
       "version_minor": 0
      },
      "text/plain": [
       "HBox(children=(FloatProgress(value=0.0, max=2000.0), HTML(value='')))"
      ]
     },
     "metadata": {},
     "output_type": "display_data"
    },
    {
     "name": "stdout",
     "output_type": "stream",
     "text": [
      "\n"
     ]
    },
    {
     "data": {
      "application/vnd.jupyter.widget-view+json": {
       "model_id": "93ef17a6120d434d98690308f70d1525",
       "version_major": 2,
       "version_minor": 0
      },
      "text/plain": [
       "HBox(children=(FloatProgress(value=0.0, max=204800.0), HTML(value='')))"
      ]
     },
     "metadata": {},
     "output_type": "display_data"
    },
    {
     "name": "stdout",
     "output_type": "stream",
     "text": [
      "\n"
     ]
    }
   ],
   "source": [
    "import delfi.inference as infer\n",
    "\n",
    "# inference object\n",
    "resWF = infer.APT(g_WF,\n",
    "                  obs=obs_statsWF,\n",
    "                  n_hiddens=n_hiddens,\n",
    "                  seed=seed_inf,\n",
    "                  pilot_samples=pilot_samples,\n",
    "                  n_mades=n_mades,\n",
    "                  prior_norm=prior_norm,\n",
    "                  density=density)\n",
    "# train\n",
    "logWF, _, posteriorWF = resWF.run(\n",
    "                    n_train=n_train,\n",
    "                    n_rounds=n_rounds,\n",
    "                    minibatch=minibatch,\n",
    "                    epochs=epochs,\n",
    "                    silent_fail=False,\n",
    "                    proposal='prior',\n",
    "                    val_frac=val_frac,\n",
    "                    verbose=True,)"
   ]
  },
  {
   "cell_type": "markdown",
   "metadata": {},
   "source": [
    "Plot the loss function"
   ]
  },
  {
   "cell_type": "code",
   "execution_count": 11,
   "metadata": {},
   "outputs": [
    {
     "data": {
      "image/png": "[encoded data removed]",
      "text/plain": [
       "<Figure size 1080x360 with 1 Axes>"
      ]
     },
     "metadata": {
      "needs_background": "light"
     },
     "output_type": "display_data"
    }
   ],
   "source": [
    "fig = plt.figure(figsize=(15,5))\n",
    "\n",
    "plt.plot(logWF[0]['loss'],lw=2)\n",
    "plt.xlabel('iteration')\n",
    "plt.ylabel('loss');"
   ]
  },
  {
   "cell_type": "markdown",
   "metadata": {},
   "source": [
    "Inspect the inferred posterior  \n",
    "Find Maximum a posteriori estimation (MAP) - which is the mode of the posterior.  \n",
    "Use kernel density estimate ratio to compare MAP to density at real parameters"
   ]
  },
  {
   "cell_type": "code",
   "execution_count": 12,
   "metadata": {},
   "outputs": [
    {
     "name": "stdout",
     "output_type": "stream",
     "text": [
      "Optimization terminated successfully.\n",
      "         Current function value: -9.086034\n",
      "         Iterations: 29\n",
      "         Function evaluations: 58\n"
     ]
    },
    {
     "data": {
      "image/png": "[encoded data removed]",
      "text/plain": [
       "<Figure size 720x720 with 2 Axes>"
      ]
     },
     "metadata": {
      "needs_background": "light"
     },
     "output_type": "display_data"
    }
   ],
   "source": [
    "posterior_samples = [posteriorWF[0].gen(10000)]\n",
    "fitness_samples = posterior_samples[0][:,0]\n",
    "mut_samples = posterior_samples[0][:,1]\n",
    "#calculations kde\n",
    "ymin = fitness_samples.min()\n",
    "ymax = fitness_samples.max()\n",
    "xmin = mut_samples.min()\n",
    "xmax = mut_samples.max()\n",
    "\n",
    "s_range, μ_range = np.mgrid[ymin:ymax:100j, xmin:xmax:100j]\n",
    "s_range = np.vstack((s_range, np.repeat(true_params[0], 100)))\n",
    "μ_range = np.vstack((μ_range, np.repeat(true_params[1], 100)))\n",
    "s_range = s_range[np.argsort(s_range[:, 0])]\n",
    "μ_range = μ_range[np.argsort(μ_range[:, 0])]\n",
    "positions = np.vstack([s_range.ravel(), μ_range.ravel()])\n",
    "values = np.vstack([fitness_samples, mut_samples])\n",
    "kernel = scipy.stats.gaussian_kde(values)\n",
    "density = np.reshape(kernel(positions).T, s_range.shape)\n",
    "\n",
    "##\n",
    "#estimates for parameters from the posterior (MAP - highest probability in posterior)\n",
    "idx = np.argmax(density, axis=None)\n",
    "param_guess = np.array([positions[0,idx],positions[1,idx]])\n",
    "def kernelminus(x):\n",
    "    return -kernel(x)\n",
    "s_est, μ_est = scipy.optimize.minimize(kernelminus,param_guess, method ='Nelder-Mead', \n",
    " options={'disp': True}).x\n",
    "\n",
    "fig, axes = plt.subplots(1, 2, figsize=(10, 10))\n",
    "\n",
    "# marginal\n",
    "sns.distplot(fitness_samples, bins=50, kde=False, ax=axes[0])\n",
    "sns.distplot(mut_samples, bins=50, kde=False, ax=axes[1]) \n",
    "\n",
    "axes[0].axvline(true_params[0], color=red, label=\"simulation parameter\")\n",
    "axes[0].axvline(s_est, color=green, label=\"MAP estimate\")\n",
    "axes[1].axvline(true_params[1], color=red, label=\"simulation parameter\")\n",
    "axes[1].axvline(μ_est, color=green, label=\"MAP estimate\")\n",
    "\n",
    "\n",
    "axes[0].set(xlabel='log10(CNV fitness effect)')\n",
    "axes[1].set(xlabel='log10(CNV mutation rate)')\n",
    "\n",
    "\n",
    "fig.tight_layout()\n",
    "plt.title('WF APT inference')\n",
    "sns.despine()\n"
   ]
  },
  {
   "cell_type": "code",
   "execution_count": 13,
   "metadata": {},
   "outputs": [
    {
     "data": {
      "text/plain": [
       "Text(0.5, 1.0, 'Wright-Fisher APT joint posterior distribution')"
      ]
     },
     "execution_count": 13,
     "metadata": {},
     "output_type": "execute_result"
    },
    {
     "data": {
      "image/png": "[encoded data removed]",
      "text/plain": [
       "<Figure size 720x720 with 1 Axes>"
      ]
     },
     "metadata": {
      "needs_background": "light"
     },
     "output_type": "display_data"
    }
   ],
   "source": [
    "fig, ax = plt.subplots(1, 1, figsize=(10, 10))\n",
    "ax.set_xlim(np.log10(1e-12),np.log10(1e-3))\n",
    "ax.set_ylim(np.log10(1e-4),np.log10(0.3))\n",
    "ax.pcolormesh(μ_range, s_range, density)\n",
    "ax.plot(true_params[1],true_params[0], color=red, marker='o', label=\"simulation parameter\")\n",
    "ax.plot(μ_est, s_est, color=\"k\", marker='o', label=\"MAP estimate\")\n",
    "ax.legend(loc='lower left')\n",
    "plt.xlabel('log10(CNV mutation rate)')\n",
    "plt.ylabel('log10(CNV fitness effect)')\n",
    "plt.title(\"Wright-Fisher APT joint posterior distribution\")"
   ]
  },
  {
   "cell_type": "markdown",
   "metadata": {},
   "source": [
    "Compute 50% credibility interval"
   ]
  },
  {
   "cell_type": "code",
   "execution_count": 14,
   "metadata": {},
   "outputs": [],
   "source": [
    "flat_indices = np.argpartition(-density.ravel(), 5050-1)[:5050]\n",
    "row_indices, col_indices = np.unravel_index(flat_indices, density.shape)\n",
    "cred_50 = np.vstack((s_range[row_indices, 0], μ_range[0, col_indices]))\n",
    "oflat_indices = np.argpartition(density.ravel(), 5050-1)[:5050]\n",
    "orow_indices, ocol_indices = np.unravel_index(oflat_indices, density.shape)\n",
    "other_50 = np.vstack((s_range[orow_indices, 0], μ_range[0, ocol_indices]))"
   ]
  },
  {
   "cell_type": "code",
   "execution_count": 15,
   "metadata": {},
   "outputs": [
    {
     "data": {
      "image/png": "[encoded data removed]",
      "text/plain": [
       "<Figure size 432x288 with 1 Axes>"
      ]
     },
     "metadata": {
      "needs_background": "light"
     },
     "output_type": "display_data"
    }
   ],
   "source": [
    "hull = ConvexHull(cred_50.T[:,np.array([1,0])])\n",
    "hull_path = Path(cred_50.T[:,np.array([1,0])][hull.vertices])\n",
    "\n",
    "plt.plot(cred_50.T[:,np.array([1,0])][hull.vertices,0], cred_50.T[:,np.array([1,0])][hull.vertices,1], 'k-', lw=2)\n",
    "plt.plot(true_params[1],true_params[0], color=red, marker='o', label=\"simulation parameter\")\n",
    "plt.plot(μ_est, s_est, color=\"k\", marker='o', label=\"MAP estimate\")\n",
    "plt.legend(loc='lower left')\n",
    "plt.title('50% credibility interval')\n",
    "plt.show()"
   ]
  },
  {
   "cell_type": "code",
   "execution_count": 16,
   "metadata": {},
   "outputs": [
    {
     "data": {
      "text/plain": [
       "True"
      ]
     },
     "execution_count": 16,
     "metadata": {},
     "output_type": "execute_result"
    }
   ],
   "source": [
    "in_cred50 = hull_path.contains_point((true_params[1],true_params[0]))\n",
    "in_cred50"
   ]
  },
  {
   "cell_type": "markdown",
   "metadata": {},
   "source": [
    "Now, chemostat model  \n",
    "Additional parameters describing the chemostat are needed for this model"
   ]
  },
  {
   "cell_type": "code",
   "execution_count": 20,
   "metadata": {},
   "outputs": [],
   "source": [
    "A_inoculation = 1e5\n",
    "S_init = .800\n",
    "D=0.12\n",
    "μA=0.45\n",
    "k=.103\n",
    "y=3244500\n",
    "S0=.800\n",
    "τ=1/10\n",
    "\n",
    "## for local ##\n",
    "seed_m = 3\n",
    "m_Chemo = CNVevo(N, s_snv, m_snv, generation, EvoModel=\"Chemo\", seed=seed_m)\n",
    "g_Chemo = dg.Default(model=m_Chemo, prior=prior, summary=s)"
   ]
  },
  {
   "cell_type": "markdown",
   "metadata": {},
   "source": [
    "Chemo observed data and summary stats"
   ]
  },
  {
   "cell_type": "code",
   "execution_count": 21,
   "metadata": {},
   "outputs": [],
   "source": [
    "obs_Chemo = m_Chemo.gen_single(true_params)\n",
    "obs_statsChemo = s.calc([obs_Chemo])"
   ]
  },
  {
   "cell_type": "markdown",
   "metadata": {},
   "source": [
    "Hyperparameters for inference remain the same  \n",
    "Inference:"
   ]
  },
  {
   "cell_type": "code",
   "execution_count": 22,
   "metadata": {},
   "outputs": [],
   "source": [
    "seed_inf = 1\n",
    "\n",
    "pilot_samples = 2000\n",
    "\n",
    "# training schedule\n",
    "n_train = 2000\n",
    "n_rounds = 1 # probably should create more rounds of training\n",
    "\n",
    "# fitting setup\n",
    "minibatch = 256\n",
    "epochs = 100\n",
    "val_frac = 0.05\n",
    "\n",
    "# network setup\n",
    "n_hiddens = [50,50]\n",
    "\n",
    "# convenience\n",
    "prior_norm = True\n",
    "\n",
    "# MAF parameters\n",
    "density = 'maf'\n",
    "n_mades = 5"
   ]
  },
  {
   "cell_type": "code",
   "execution_count": null,
   "metadata": {},
   "outputs": [],
   "source": [
    "# inference object\n",
    "resChemo = infer.APT(g_Chemo,\n",
    "                  obs=obs_statsChemo,\n",
    "                  n_hiddens=n_hiddens,\n",
    "                  seed=seed_inf,\n",
    "                  pilot_samples=pilot_samples,\n",
    "                  n_mades=n_mades,\n",
    "                  prior_norm=prior_norm,\n",
    "                  density=density)\n",
    "# train\n",
    "logChemo, _, posteriorChemo = resChemo.run(\n",
    "                    n_train=n_train,\n",
    "                    n_rounds=n_rounds,\n",
    "                    minibatch=minibatch,\n",
    "                    epochs=epochs,\n",
    "                    silent_fail=False,\n",
    "                    proposal='prior',\n",
    "                    val_frac=val_frac,\n",
    "                    verbose=True,)"
   ]
  },
  {
   "cell_type": "code",
   "execution_count": null,
   "metadata": {},
   "outputs": [],
   "source": [
    "fig = plt.figure(figsize=(15,5))\n",
    "\n",
    "plt.plot(logChemo[0]['loss'],lw=2)\n",
    "plt.xlabel('iteration')\n",
    "plt.ylabel('loss')\n",
    "plt.title(\"Chemostat inference loss\");"
   ]
  },
  {
   "cell_type": "markdown",
   "metadata": {},
   "source": [
    "Inspect the inferred posterior  \n",
    "Find Maximum a posteriori estimation (MAP) - which is the mode of the posterior.  \n",
    "Use kernel density estimate ratio to compare MAP to density at real parameters"
   ]
  },
  {
   "cell_type": "code",
   "execution_count": null,
   "metadata": {},
   "outputs": [],
   "source": [
    "posterior_samples = [posteriorWF[0].gen(10000)]\n",
    "fitness_samples = posterior_samples[0][:,0]\n",
    "mut_samples = posterior_samples[0][:,1]\n",
    "#calculations kde\n",
    "ymin = fitness_samples.min()\n",
    "ymax = fitness_samples.max()\n",
    "xmin = mut_samples.min()\n",
    "xmax = mut_samples.max()\n",
    "\n",
    "s_range, μ_range = np.mgrid[ymin:ymax:100j, xmin:xmax:100j]\n",
    "s_range = np.vstack((s_range, np.repeat(true_params[0], 100)))\n",
    "μ_range = np.vstack((μ_range, np.repeat(true_params[1], 100)))\n",
    "s_range = s_range[np.argsort(s_range[:, 0])]\n",
    "μ_range = μ_range[np.argsort(μ_range[:, 0])]\n",
    "positions = np.vstack([s_range.ravel(), μ_range.ravel()])\n",
    "values = np.vstack([fitness_samples, mut_samples])\n",
    "kernel = scipy.stats.gaussian_kde(values)\n",
    "density = np.reshape(kernel(positions).T, s_range.shape)\n",
    "\n",
    "##\n",
    "#estimates for parameters from the posterior (MAP - highest probability in posterior)\n",
    "idx = np.argmax(density, axis=None)\n",
    "param_guess = np.array([positions[0,idx],positions[1,idx]])\n",
    "def kernelminus(x):\n",
    "    return -kernel(x)\n",
    "s_est, μ_est = scipy.optimize.minimize(kernelminus,param_guess, method ='Nelder-Mead', \n",
    " options={'disp': True}).x\n",
    "\n",
    "fig, axes = plt.subplots(1, 2, figsize=(10, 10))\n",
    "\n",
    "# marginal\n",
    "sns.distplot(fitness_samples, bins=50, kde=False, ax=axes[0])\n",
    "sns.distplot(mut_samples, bins=50, kde=False, ax=axes[1]) \n",
    "\n",
    "axes[0].axvline(true_params[0], color=red, label=\"simulation parameter\")\n",
    "axes[0].axvline(s_est, color=green, label=\"MAP estimate\")\n",
    "axes[0].legend()\n",
    "axes[1].axvline(true_params[1], color=red, label=\"simulation parameter\")\n",
    "axes[1].axvline(μ_est, color=green, label=\"MAP estimate\")\n",
    "axes[1].legend()\n",
    "\n",
    "\n",
    "axes[0].set(xlabel='log10(CNV fitness effect)')\n",
    "axes[1].set(xlabel='log10(CNV mutation rate)')\n",
    "\n",
    "\n",
    "fig.tight_layout()\n",
    "plt.title('Chemostat APT inference')\n",
    "sns.despine()"
   ]
  },
  {
   "cell_type": "code",
   "execution_count": null,
   "metadata": {},
   "outputs": [],
   "source": [
    "#fig, axes = plt.subplots(1, 1, figsize=(10, 10))\n",
    "ax.set_xlim(np.log10(1e-12),np.log10(1e-3))\n",
    "ax.set_ylim(np.log10(1e-4),np.log10(0.3))\n",
    "plt.pcolormesh(μ_range, s_range, density)\n",
    "plt.colorbar()\n",
    "plt.plot(true_params[1],true_params[0], color=red, marker='o', label=\"simulation parameter\")\n",
    "plt.plot(μ_est, s_est, color=\"k\", marker='o', label=\"MAP estimate\")\n",
    "plt.legend(loc='lower left')\n",
    "#plt.label(xlabel='log10(CNV mutation rate)', ylabel='log10(CNV fitness effect)')\n",
    "plt.xlabel('log10(CNV mutation rate)')\n",
    "plt.ylabel('log10(CNV fitness effect)')\n",
    "plt.title(\"Chemostat APT joint posterior distribution\")"
   ]
  },
  {
   "cell_type": "markdown",
   "metadata": {},
   "source": [
    "Compute 50% credibility interval"
   ]
  },
  {
   "cell_type": "code",
   "execution_count": null,
   "metadata": {},
   "outputs": [],
   "source": [
    "flat_indices = np.argpartition(-density.ravel(), 5050-1)[:5050]\n",
    "row_indices, col_indices = np.unravel_index(flat_indices, density.shape)\n",
    "cred_50 = np.vstack((s_range[row_indices, 0], μ_range[0, col_indices]))\n",
    "oflat_indices = np.argpartition(density.ravel(), 5050-1)[:5050]\n",
    "orow_indices, ocol_indices = np.unravel_index(oflat_indices, density.shape)\n",
    "other_50 = np.vstack((s_range[orow_indices, 0], μ_range[0, ocol_indices]))\n",
    "\n",
    "hull = ConvexHull(cred_50.T[:,np.array([1,0])])\n",
    "hull_path = Path(cred_50.T[:,np.array([1,0])][hull.vertices])\n",
    "\n",
    "plt.plot(cred_50.T[:,np.array([1,0])][hull.vertices,0], cred_50.T[:,np.array([1,0])][hull.vertices,1], 'k-', lw=2)\n",
    "plt.plot(true_params[1],true_params[0], color=red, marker='o', label=\"simulation parameter\")\n",
    "plt.plot(μ_est, s_est, color=\"k\", marker='o', label=\"MAP estimate\")\n",
    "plt.legend(loc='lower left')\n",
    "plt.title('50% credibility interval')\n",
    "plt.show()"
   ]
  },
  {
   "cell_type": "code",
   "execution_count": null,
   "metadata": {},
   "outputs": [],
   "source": [
    "in_cred50 = hull_path.contains_point((true_params[1],true_params[0]))\n",
    "in_cred50"
   ]
  }
 ],
 "metadata": {
  "kernelspec": {
   "display_name": "Python 3",
   "language": "python",
   "name": "python3"
  },
  "language_info": {
   "codemirror_mode": {
    "name": "ipython",
    "version": 3
   },
   "file_extension": ".py",
   "mimetype": "text/x-python",
   "name": "python",
   "nbconvert_exporter": "python",
   "pygments_lexer": "ipython3",
   "version": "3.7.6"
  }
 },
 "nbformat": 4,
 "nbformat_minor": 4
}

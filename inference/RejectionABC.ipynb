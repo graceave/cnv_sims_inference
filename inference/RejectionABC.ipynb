{
 "cells": [
  {
   "cell_type": "code",
   "execution_count": 51,
   "id": "sapphire-spice",
   "metadata": {},
   "outputs": [],
   "source": [
    "from cnv_simulation import CNVsimulator_simpleWF, CNVsimulator_simpleChemo\n",
    "import matplotlib as mpl\n",
    "import matplotlib.pyplot as plt\n",
    "import numpy as np\n",
    "import scipy.stats\n",
    "import scipy.optimize\n",
    "import seaborn as sns"
   ]
  },
  {
   "cell_type": "code",
   "execution_count": 11,
   "id": "rough-laptop",
   "metadata": {},
   "outputs": [],
   "source": [
    "# get presimulated data aka sims used to approx posterior\n",
    "theta_presimulated = np.genfromtxt('presimulated_data/WF_presimulated_theta_100000_1.csv',delimiter=',')\n",
    "x_presimulated = np.genfromtxt('presimulated_data/WF_presimulated_data_100000_1.csv',delimiter=',')"
   ]
  },
  {
   "cell_type": "code",
   "execution_count": 9,
   "id": "inside-portable",
   "metadata": {},
   "outputs": [],
   "source": [
    "# get data WF\n",
    "wf_obs = np.genfromtxt(\"WF_simulated_single_observations_new.csv\",delimiter=',')\n",
    "# get a single observation and the corresponding params\n",
    "observation = wf_obs[0,0:25]\n",
    "true_params = wf_obs[0,25:27]"
   ]
  },
  {
   "cell_type": "code",
   "execution_count": 36,
   "id": "exposed-crown",
   "metadata": {},
   "outputs": [],
   "source": [
    "def distance_euc(sim, obs):\n",
    "    d=((sim-obs)**2).sum(axis=1)\n",
    "    return d**0.5\n",
    "\n",
    "def distance_mae(sim, obs):\n",
    "    d = sim - obs\n",
    "    absd = np.abs(d)\n",
    "    return absd.sum(axis=1) "
   ]
  },
  {
   "cell_type": "code",
   "execution_count": 38,
   "id": "curious-daily",
   "metadata": {},
   "outputs": [],
   "source": [
    "distances_e = distance_euc(x_presimulated, observation)\n",
    "distances_m = distance_mae(x_presimulated, observation)"
   ]
  },
  {
   "cell_type": "code",
   "execution_count": 39,
   "id": "iraqi-genesis",
   "metadata": {},
   "outputs": [],
   "source": [
    "# threshold that accepts 5% of the samples\n",
    "quantile = 0.05\n",
    "ϵ_e = np.quantile(distances_e, quantile)\n",
    "ϵ_m = np.quantile(distances_m, quantile)\n",
    "# get accepted\n",
    "idx_accepted_e = distances_e < ϵ_e\n",
    "idx_accepted_m = distances_m < ϵ_m"
   ]
  },
  {
   "cell_type": "code",
   "execution_count": 44,
   "id": "miniature-israel",
   "metadata": {},
   "outputs": [],
   "source": [
    "# get accepted params\n",
    "posterior_e = theta_presimulated[idx_accepted_e, ]\n",
    "posterior_m = theta_presimulated[idx_accepted_m, ]"
   ]
  },
  {
   "cell_type": "code",
   "execution_count": 46,
   "id": "insured-recorder",
   "metadata": {},
   "outputs": [],
   "source": [
    "def kernelminus(x):\n",
    "    return -kernel(x)"
   ]
  },
  {
   "cell_type": "code",
   "execution_count": 56,
   "id": "quality-italy",
   "metadata": {},
   "outputs": [
    {
     "name": "stdout",
     "output_type": "stream",
     "text": [
      "Optimization terminated successfully.\n",
      "         Current function value: -0.668560\n",
      "         Iterations: 33\n",
      "         Function evaluations: 63\n"
     ]
    }
   ],
   "source": [
    "fitness_samples = np.asarray(posterior_m[:,0])\n",
    "mut_samples = np.asarray(posterior_m[:,1])\n",
    "    \n",
    "#calculations kde\n",
    "ymin = fitness_samples.min()\n",
    "ymax = fitness_samples.max()\n",
    "xmin = mut_samples.min()\n",
    "xmax = mut_samples.max()\n",
    "    \n",
    "s_range, μ_range = np.mgrid[ymin:ymax:100j, xmin:xmax:100j]\n",
    "positions = np.vstack([s_range.ravel(), μ_range.ravel()])\n",
    "values = np.vstack([fitness_samples, mut_samples])\n",
    "kernel = scipy.stats.gaussian_kde(values)\n",
    "density = np.reshape(kernel(positions).T, s_range.shape)\n",
    "\n",
    "    \n",
    "#estimates for parameters from the posterior (MAP - highest probability in posterior)\n",
    "idx = np.argmax(density, axis=None)\n",
    "param_guess = np.array([positions[0,idx],positions[1,idx]])\n",
    "s_est, μ_est = scipy.optimize.minimize(kernelminus,param_guess, method ='Nelder-Mead', options={'disp': True}).x\n",
    "map_log_prob = np.log(kernel([s_est, μ_est]))"
   ]
  },
  {
   "cell_type": "code",
   "execution_count": 57,
   "id": "rising-germany",
   "metadata": {},
   "outputs": [
    {
     "name": "stderr",
     "output_type": "stream",
     "text": [
      "/Users/graceavecilla/opt/anaconda3/lib/python3.7/site-packages/ipykernel_launcher.py:25: MatplotlibDeprecationWarning: shading='flat' when X and Y have the same dimensions as C is deprecated since 3.3.  Either specify the corners of the quadrilaterals with X and Y, or pass shading='auto', 'nearest' or 'gouraud', or set rcParams['pcolor.shading'].  This will become an error two minor releases later.\n"
     ]
    },
    {
     "ename": "NameError",
     "evalue": "name 'CS2' is not defined",
     "output_type": "error",
     "traceback": [
      "\u001b[0;31m---------------------------------------------------------------------------\u001b[0m",
      "\u001b[0;31mNameError\u001b[0m                                 Traceback (most recent call last)",
      "\u001b[0;32m<ipython-input-57-3d0a25e590d0>\u001b[0m in \u001b[0;36m<module>\u001b[0;34m\u001b[0m\n\u001b[1;32m     26\u001b[0m \u001b[0;31m#CS2=axes[1,0].contour(μ_range, s_range,get_hdr(density, mylevel=[0.95]), colors='white')\u001b[0m\u001b[0;34m\u001b[0m\u001b[0;34m\u001b[0m\u001b[0;34m\u001b[0m\u001b[0m\n\u001b[1;32m     27\u001b[0m \u001b[0;31m#CS3=axes[1,0].contour(μ_range, s_range,get_hdr(density, mylevel=[0.5]), colors='lightgrey')\u001b[0m\u001b[0;34m\u001b[0m\u001b[0;34m\u001b[0m\u001b[0;34m\u001b[0m\u001b[0m\n\u001b[0;32m---> 28\u001b[0;31m \u001b[0maxes\u001b[0m\u001b[0;34m[\u001b[0m\u001b[0;36m1\u001b[0m\u001b[0;34m,\u001b[0m\u001b[0;36m0\u001b[0m\u001b[0;34m]\u001b[0m\u001b[0;34m.\u001b[0m\u001b[0mclabel\u001b[0m\u001b[0;34m(\u001b[0m\u001b[0mCS2\u001b[0m\u001b[0;34m,\u001b[0m \u001b[0mfmt\u001b[0m\u001b[0;34m=\u001b[0m\u001b[0;34m'0.95'\u001b[0m\u001b[0;34m)\u001b[0m\u001b[0;34m\u001b[0m\u001b[0;34m\u001b[0m\u001b[0m\n\u001b[0m\u001b[1;32m     29\u001b[0m \u001b[0maxes\u001b[0m\u001b[0;34m[\u001b[0m\u001b[0;36m1\u001b[0m\u001b[0;34m,\u001b[0m\u001b[0;36m0\u001b[0m\u001b[0;34m]\u001b[0m\u001b[0;34m.\u001b[0m\u001b[0mclabel\u001b[0m\u001b[0;34m(\u001b[0m\u001b[0mCS3\u001b[0m\u001b[0;34m,\u001b[0m \u001b[0mfmt\u001b[0m\u001b[0;34m=\u001b[0m\u001b[0;34m'0.5'\u001b[0m\u001b[0;34m)\u001b[0m\u001b[0;34m\u001b[0m\u001b[0;34m\u001b[0m\u001b[0m\n\u001b[1;32m     30\u001b[0m \u001b[0maxes\u001b[0m\u001b[0;34m[\u001b[0m\u001b[0;36m1\u001b[0m\u001b[0;34m,\u001b[0m\u001b[0;36m0\u001b[0m\u001b[0;34m]\u001b[0m\u001b[0;34m.\u001b[0m\u001b[0mplot\u001b[0m\u001b[0;34m(\u001b[0m\u001b[0mtrue_params\u001b[0m\u001b[0;34m[\u001b[0m\u001b[0;36m1\u001b[0m\u001b[0;34m]\u001b[0m\u001b[0;34m,\u001b[0m\u001b[0mtrue_params\u001b[0m\u001b[0;34m[\u001b[0m\u001b[0;36m0\u001b[0m\u001b[0;34m]\u001b[0m\u001b[0;34m,\u001b[0m \u001b[0mcolor\u001b[0m\u001b[0;34m=\u001b[0m\u001b[0mred\u001b[0m\u001b[0;34m,\u001b[0m \u001b[0mmarker\u001b[0m\u001b[0;34m=\u001b[0m\u001b[0;34m'o'\u001b[0m\u001b[0;34m,\u001b[0m \u001b[0mlabel\u001b[0m\u001b[0;34m=\u001b[0m\u001b[0;34m\"simulation parameter\"\u001b[0m\u001b[0;34m)\u001b[0m\u001b[0;34m\u001b[0m\u001b[0;34m\u001b[0m\u001b[0m\n",
      "\u001b[0;31mNameError\u001b[0m: name 'CS2' is not defined"
     ]
    },
    {
     "data": {
      "image/png": "[encoded data removed]",
      "text/plain": [
       "<Figure size 432x288 with 4 Axes>"
      ]
     },
     "metadata": {
      "needs_background": "light"
     },
     "output_type": "display_data"
    }
   ],
   "source": [
    "    red, blue, green = sns.color_palette('Set1', 3)\n",
    "    fig, axes = plt.subplots(2, 2)\n",
    "    # marginal\n",
    "    sns.distplot(fitness_samples, bins=50, kde=False, ax=axes[0,1])\n",
    "    sns.distplot(mut_samples, bins=50, kde=False, ax=axes[0,0]) \n",
    "    #marginal 95% hdis\n",
    "    #axes[2,1].axvline(fit_95hdi_low, color='k', linestyle=':')\n",
    "    #axes[2,1].axvline(fit_95hdi_high, color='k', linestyle=':',label=\"95% HDI\")\n",
    "    #axes[1,0].axvline(mut_95hdi_low, color='k', linestyle=':')\n",
    "    #axes[1,0].axvline(mut_95hdi_high, color='k', label=\"95% HDI\", linestyle=':')\n",
    "    # MAP and true params\n",
    "    axes[0,1].axvline(true_params[0], color=red, label=\"simulation parameter\")\n",
    "    axes[0,1].axvline(s_est, color=green, label=\"MAP estimate\")\n",
    "    axes[0,0].axvline(true_params[1], color=red, label=\"simulation parameter\")\n",
    "    axes[0,0].axvline(μ_est, color=green, label=\"MAP estimate\")\n",
    "    axes[0,1].set(xlabel='log10(CNV fitness effect)')\n",
    "    axes[0,0].set(xlabel='log10(CNV mutation rate)')\n",
    "    axes[0,1].legend(loc='upper left')\n",
    "    axes[0,0].legend(loc='upper left')\n",
    "    \n",
    "    # joint\n",
    "#     axes[2,0].set_xlim(μ_range.min(),μ_range.max())\n",
    "#     axes[2,0].set_ylim(s_range.min(),s_range.max())\n",
    "    # #get values from contour\n",
    "    axes[1,0].pcolormesh(μ_range, s_range, density)\n",
    "    #CS2=axes[1,0].contour(μ_range, s_range,get_hdr(density, mylevel=[0.95]), colors='white')\n",
    "    #CS3=axes[1,0].contour(μ_range, s_range,get_hdr(density, mylevel=[0.5]), colors='lightgrey')\n",
    "    axes[1,0].clabel(CS2, fmt='0.95')\n",
    "    axes[1,0].clabel(CS3, fmt='0.5')\n",
    "    axes[1,0].plot(true_params[1],true_params[0], color=red, marker='o', label=\"simulation parameter\")\n",
    "    axes[1,0].plot(μ_est, s_est, color=\"k\", marker='o', label=\"MAP estimate\")\n",
    "    axes[1,0].legend(loc='lower left', prop={'size': 12})\n",
    "    axes[1,0].set(xlabel='log10(CNV mutation rate)', ylabel='log10(CNV fitness effect)')"
   ]
  },
  {
   "cell_type": "code",
   "execution_count": null,
   "id": "supreme-scale",
   "metadata": {},
   "outputs": [],
   "source": []
  }
 ],
 "metadata": {
  "kernelspec": {
   "display_name": "Python 3",
   "language": "python",
   "name": "python3"
  },
  "language_info": {
   "codemirror_mode": {
    "name": "ipython",
    "version": 3
   },
   "file_extension": ".py",
   "mimetype": "text/x-python",
   "name": "python",
   "nbconvert_exporter": "python",
   "pygments_lexer": "ipython3",
   "version": "3.7.6"
  }
 },
 "nbformat": 4,
 "nbformat_minor": 5
}

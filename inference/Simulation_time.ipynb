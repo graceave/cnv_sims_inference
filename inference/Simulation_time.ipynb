{
 "cells": [
  {
   "cell_type": "markdown",
   "id": "contrary-causing",
   "metadata": {},
   "source": [
    "This notebook is for the time it takes to run a single Wright-Fisher simulation or a single chemostat simulation for each of the following parameter combinations on a MacBook operating Mac OS Catalina 10.15.7 with a 2.6 GHz 6-Core Intel Core i7 processor."
   ]
  },
  {
   "cell_type": "code",
   "execution_count": 1,
   "id": "dietary-shade",
   "metadata": {},
   "outputs": [],
   "source": [
    "from cnv_simulation import CNVsimulator_simpleWF, CNVsimulator_simpleChemo\n",
    "import numpy as np\n",
    "import time"
   ]
  },
  {
   "cell_type": "code",
   "execution_count": 2,
   "id": "sized-tomato",
   "metadata": {},
   "outputs": [],
   "source": [
    "# other params needed for simulation\n",
    "# pop size, fitness SNVs, mutation rate SNVs, number of generations\n",
    "N = 3.3e8\n",
    "s_snv=0.001\n",
    "m_snv=1e-5\n",
    "reps=1\n",
    "generation=np.genfromtxt(\"generations.csv\",delimiter=',', skip_header=1,dtype=\"int64\")\n"
   ]
  },
  {
   "cell_type": "code",
   "execution_count": 3,
   "id": "bacterial-singapore",
   "metadata": {},
   "outputs": [],
   "source": [
    "cnv_params = np.log10([[0.1, 1e-5], [0.1, 1e-7], [0.001, 1e-5], [0.001, 1e-7]])"
   ]
  },
  {
   "cell_type": "code",
   "execution_count": 4,
   "id": "married-zambia",
   "metadata": {},
   "outputs": [
    {
     "name": "stdout",
     "output_type": "stream",
     "text": [
      "A Wright-Fisher simulation with the selection coef and mutation rate:  [1.e-01 1.e-05]  took  0.013580083847045898 seconds to run\n",
      "A chemostat simulation with the selection coef and mutation rate:  [1.e-01 1.e-05]  took  10.860816955566406 seconds to run\n",
      "A Wright-Fisher simulation with the selection coef and mutation rate:  [1.e-01 1.e-07]  took  0.009899139404296875 seconds to run\n",
      "A chemostat simulation with the selection coef and mutation rate:  [1.e-01 1.e-07]  took  11.238962888717651 seconds to run\n",
      "A Wright-Fisher simulation with the selection coef and mutation rate:  [1.e-03 1.e-05]  took  0.010821104049682617 seconds to run\n",
      "A chemostat simulation with the selection coef and mutation rate:  [1.e-03 1.e-05]  took  11.354690074920654 seconds to run\n",
      "A Wright-Fisher simulation with the selection coef and mutation rate:  [1.e-03 1.e-07]  took  0.008615970611572266 seconds to run\n",
      "A chemostat simulation with the selection coef and mutation rate:  [1.e-03 1.e-07]  took  10.696371078491211 seconds to run\n"
     ]
    }
   ],
   "source": [
    "for i in range(cnv_params.shape[0]):\n",
    "    start_time = time.time()\n",
    "    CNVsimulator_simpleWF(reps = reps, N=N, s_snv=s_snv, m_snv=m_snv, generation=generation, seed=None, parameters=cnv_params[i])\n",
    "    total_time = time.time() - start_time\n",
    "    print(\"A Wright-Fisher simulation with the selection coef and mutation rate: \", np.power(10, cnv_params[i]), \" took \", total_time, \"seconds to run\")\n",
    "    start_time = time.time()\n",
    "    CNVsimulator_simpleChemo(reps, s_snv, m_snv, generation, parameters=cnv_params[i], seed=None)\n",
    "    total_time = time.time() - start_time\n",
    "    print(\"A chemostat simulation with the selection coef and mutation rate: \", np.power(10, cnv_params[i]), \" took \", total_time, \"seconds to run\")"
   ]
  },
  {
   "cell_type": "code",
   "execution_count": null,
   "id": "black-symphony",
   "metadata": {},
   "outputs": [],
   "source": []
  }
 ],
 "metadata": {
  "kernelspec": {
   "display_name": "Python 3",
   "language": "python",
   "name": "python3"
  },
  "language_info": {
   "codemirror_mode": {
    "name": "ipython",
    "version": 3
   },
   "file_extension": ".py",
   "mimetype": "text/x-python",
   "name": "python",
   "nbconvert_exporter": "python",
   "pygments_lexer": "ipython3",
   "version": "3.7.6"
  }
 },
 "nbformat": 4,
 "nbformat_minor": 5
}

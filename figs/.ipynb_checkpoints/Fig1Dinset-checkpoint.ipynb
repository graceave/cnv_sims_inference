{
 "cells": [
  {
   "cell_type": "markdown",
   "id": "compressed-malta",
   "metadata": {},
   "source": [
    "Figure 1D inset, chemostat going from initial coniditons to steady state  \n",
    "Code here is mostly the same as in cnv_simulation.py"
   ]
  },
  {
   "cell_type": "markdown",
   "id": "laughing-scroll",
   "metadata": {},
   "source": [
    "Equations for chemostat competition:  \n",
    "$$\n",
    "\\frac{dX_A}{dt} = X_A ( \\frac{\\mu S}{S + k_A} - D ), \\\\\n",
    "\\frac{dX_C}{dt} = X_C ( \\frac{r_C S}{S + k_C}  - D ), \\\\\n",
    "\\frac{dX_N}{dt} = X_N ( \\frac{r_N S}{S + k_N} - D ), \\\\\n",
    "\\frac{dS}{dt} = ( S_0 - S ) D - \\frac{X_A \\mu S}{( S + k_A ) Y_A} - \\frac{X_C r_C S}{( S + k_C ) Y_C} - \\frac{X_N r_N S}{( S + k_N ) Y_N}.\n",
    "$$"
   ]
  },
  {
   "cell_type": "markdown",
   "id": "sudden-london",
   "metadata": {},
   "source": [
    "Where:\n",
    "* $X_A$ is the density of the wildtype strain\n",
    "* $X_C$ is the density of the CNV strain\n",
    "* $X_N$ is the density of the SNV strain\n",
    "* $S$ is the concentration of the limiting nutrient in the medium\n",
    "* $S_0$ is the incoming substrate flow\n",
    "* $Y_i$ is the culture yield of strain $i$ per mole of the limiting nutrient\n",
    "* $D$ is the dilution rate of the culture\n",
    "* $\\mu$ is the maximal growth rate, related to the concentration of the limiting nutrient with saturating kinetics,\n",
    "* $k_i$ is the substrate concentration at half-maximal $\\mu$ for strain $i$ \n",
    "* $r_C=(\\frac{s_C}{T} + \\mu)$ is the increased growth in the chemostat conditions of the CNV strain\n",
    "* $r_N=(\\frac{s_N}{T} + \\mu))$ is the increased growth in the chemostat conditions of the CNV strain\n",
    "* $T$ is the generation time in hours\n"
   ]
  },
  {
   "cell_type": "markdown",
   "id": "special-joint",
   "metadata": {},
   "source": [
    "Equations for mutation from ancestral genotype to mutant genotype:\n",
    "\n",
    "$$\n",
    "\\frac{dX_A}{dt} = (1 - \\delta_C - \\delta_S) X_A,\\\\\n",
    "\\frac{dX_C}{dt} = \\delta_C X_A, \\\\\n",
    "\\frac{dX_N}{dt} = \\delta_N X_A.\n",
    "$$\n",
    "\n"
   ]
  },
  {
   "cell_type": "markdown",
   "id": "operating-charleston",
   "metadata": {},
   "source": [
    "Based on Airoldi et al. 2016 https://doi.org/10.1091/mbc.E14-05-1013, the values for the parameters are:\n",
    "\n",
    "* $k_i$ = 103µM nitrogen = 0.103 mM\n",
    "* $Y$ = 32,445 ± 3422 cells/ml per μmol of nitrogen = 32,445,000 cells/ml/mmol nitrogen\n",
    "* at steady state, $S$ = ∼80 μM = ~0.08 mM\n",
    "\n",
    "Based on Cooper TG (1982):\n",
    "* $\\mu_A$ = 0.45 h-1\n",
    "\n",
    "From experiments:\n",
    "* $D$ = 0.12 h-1\n",
    "* $S_0$ = 800 μM = 0.8 mM\n",
    "* at steady state, cell density ~1.5e7 cells/ml, total population size ~3e20\n",
    "* total volume = 20 ml\n",
    "\n",
    "This results in a doubling time of T=5.8 hours, which is equal to 0.1724 generations h-1"
   ]
  },
  {
   "cell_type": "code",
   "execution_count": 2,
   "id": "flexible-vietnamese",
   "metadata": {},
   "outputs": [],
   "source": [
    "import numpy as np\n",
    "import numba\n",
    "\n",
    "@numba.jit\n",
    "def get_rates(A, CNV, SNV, S, k, D, μA, m_cnv, m_snv, s_cnv, s_snv):\n",
    "    \"\"\" Rates\n",
    "    A :  number of ancestral cells at current time step\n",
    "    CNV : number of cells with CNV at current time step\n",
    "    SNV : number of cells with SNV at current time step\n",
    "    S : substrate concentration at current time step\n",
    "    k : substrate concentration at half-maximal growth rate (here, the same for all cells)\n",
    "    D : dilution rate\n",
    "    μA : ancestral maximum growth rate\n",
    "    m_cnv : ancestral -> CNV mutation rate\n",
    "    m_snv : ancestral -> SNV mutation rate\n",
    "    s_cnv : CNV selection coefficient\n",
    "    s_snv : SNV selection coefficient\n",
    "    \"\"\"\n",
    "    return np.array([\n",
    "        A* ((μA *S) / (k + S)), # growth ancestral\n",
    "        A*D, # dilution ancestral\n",
    "        CNV * (((μA+s_cnv) *S) / (k + S)), # growth CNV \n",
    "        CNV*D, # dilution CNV\n",
    "        SNV * (((μA+s_snv) *S) / (k + S)), # growth SNV\n",
    "        SNV*D, # dilution SNV\n",
    "        A * m_cnv, # ancestral -> CNV\n",
    "        A * m_snv],#, # ancestral -> SNV\n",
    "        #(S0-S)*D] # substrate dilution\n",
    "        dtype='float64'\n",
    "    )\n",
    "\n",
    "updates = np.array([\n",
    "        [1, 0, 0], # growth ancestral\n",
    "        [-1, 0, 0], # dilution ancestral\n",
    "        [0, 1, 0],  # growth CNV\n",
    "        [0, -1, 0], # dilution CNV\n",
    "        [0, 0, 1],  # growth SNV\n",
    "        [0, 0, -1], # dilution SNV\n",
    "        [-1, 1, 0], # mutation ancestral -> CNV\n",
    "        [-1, 0, 1] # mutation ancestral -> SNV\n",
    "    ])\n",
    "\n",
    "def τ_leap(A, CNV, SNV, S, k, D, μA, m_cnv, m_snv, s_cnv, s_snv, S0, y, τ):\n",
    "    \"\"\" Single update of simulation using tau leaps\n",
    "    A :  number of ancestral cells at current time step\n",
    "    CNV : number of cells with CNV at current time step\n",
    "    SNV : number of cells with SNV at current time step\n",
    "    S : substrate concentration at current time step\n",
    "    k : substrate concentration at half-maximal growth rate (here, the same for all cell types)\n",
    "    D : dilution rate\n",
    "    μA : ancestral maximum growth rate\n",
    "    m_cnv : ancestral -> CNV mutation rate\n",
    "    m_snv : ancestral -> SNV mutation rate\n",
    "    s_cnv : CNV selection coefficient\n",
    "    s_snv : SNV selection coefficient\n",
    "    updates : change in reactants due to reactions\n",
    "    S0 : incoming substrate concentration - S0 in diff eq\n",
    "    y : number of cells produced per mole of the limiting nutrient (here, the same for all cell types)\n",
    "    τ : amount to advance time\n",
    "    \"\"\"\n",
    "    rates = get_rates(A, CNV, SNV, S, k, D, μA, m_cnv, m_snv, s_cnv, s_snv)\n",
    "    try:\n",
    "        adj_rates = np.random.poisson(rates * τ)\n",
    "    except ValueError:\n",
    "        print(rates, τ)\n",
    "        raise\n",
    "    if (adj_rates > 150).any() and τ > 1/100:\n",
    "        τ /= 2\n",
    "    ΔA, ΔCNV, ΔSNV = updates.T @ adj_rates\n",
    "    A += ΔA\n",
    "    CNV += ΔCNV\n",
    "    SNV += ΔSNV\n",
    "    ΔS = S0*D - D*S - (A*μA*S)/((S+k)*y) - (CNV*(μA+s_cnv)*S)/((S+k)*y) - (SNV*(μA+s_snv)*S)/((S+k)*y)\n",
    "    return τ, A, CNV, SNV, S+ΔS\n",
    "\n"
   ]
  },
  {
   "cell_type": "code",
   "execution_count": 3,
   "id": "shared-taylor",
   "metadata": {},
   "outputs": [],
   "source": [
    "# I will run this with no mutants, so m_snv=0 and m_cnv=0\n",
    "m_snv=0\n",
    "s_snv=0\n",
    "cnv_params = np.array([0,0])\n",
    "reps=1\n",
    "# chemostat parameters\n",
    "A_inoculation = 1e5\n",
    "S_init = .800\n",
    "D=0.12\n",
    "μA=0.45\n",
    "k=.103\n",
    "y=32445000*20\n",
    "S0=.800\n",
    "τ=1/10"
   ]
  },
  {
   "cell_type": "code",
   "execution_count": 4,
   "id": "ceramic-channel",
   "metadata": {},
   "outputs": [],
   "source": [
    "assert A_inoculation > 0\n",
    "A_inoculation = np.uint64(A_inoculation)\n",
    "    \n",
    "s_cnv, m_cnv = cnv_params \n",
    "        \n",
    "s_cnv /= 5.8 #convert from per generation to per hour\n",
    "m_cnv /= 5.8 #convert from per generation to per hour\n",
    "s_snv /= 5.8\n",
    "m_snv /= 5.8\n",
    "\n",
    "\n",
    "A = A_inoculation\n",
    "S = S_init # initial substrate concentration = concentration in media\n",
    "CNV, SNV = 0, 0\n",
    "t=0\n",
    "    \n",
    "while t < 48: # allow chemostat to reach steady state\n",
    "    τ, A, CNV, SNV, S = τ_leap(A, CNV, SNV, S, k, D, μA, m_cnv, m_snv, s_cnv, s_snv, S0, y, τ)\n",
    "    A = max(A, 0)\n",
    "    CNV = max(CNV, 0)\n",
    "    SNV = max(SNV, 0)\n",
    "    S = max(S, 0)\n",
    "    t += τ\n",
    "        \n",
    "t=0\n",
    "states = [np.array([A, CNV, SNV, S])]\n",
    "times=[t]\n",
    "max_t = 100# run for 100 hours\n",
    "while t < max_t: # record from when the chemostat reaches steady state to hour that corresponds with the last generation\n",
    "    τ, A, CNV, SNV, S = τ_leap(A, CNV, SNV, S, k, D, μA, m_cnv, m_snv, s_cnv, s_snv, S0, y, τ)\n",
    "    A = max(A, 0)\n",
    "    CNV = max(CNV, 0)\n",
    "    SNV = max(SNV, 0)\n",
    "    S = max(S, 0)\n",
    "    t+=τ\n",
    "    states.append(np.array([A, CNV, SNV, S]))\n",
    "    times.append(t)"
   ]
  },
  {
   "cell_type": "code",
   "execution_count": 5,
   "id": "educational-easter",
   "metadata": {},
   "outputs": [],
   "source": [
    "data = np.stack(states, axis=1)\n",
    "times = np.array(times)\n",
    "gens = times/5.8"
   ]
  },
  {
   "cell_type": "code",
   "execution_count": 13,
   "id": "choice-eleven",
   "metadata": {},
   "outputs": [
    {
     "data": {
      "image/png": "[encoded data removed]",
      "text/plain": [
       "<Figure size 432x288 with 2 Axes>"
      ]
     },
     "metadata": {
      "needs_background": "light"
     },
     "output_type": "display_data"
    }
   ],
   "source": [
    "import matplotlib.pyplot as plt\n",
    "plt.rcParams.update({'font.size': 14})\n",
    "fig, ax1 = plt.subplots()\n",
    "ax1.plot(times, data[0,:], lw=3, label='population size' + \" \", color='tab:red')\n",
    "ax1.set_xlabel('Time (hours)')\n",
    "ax1.set_ylabel('number of cells x 10^8')\n",
    "\n",
    "ax2 = ax1.twinx()\n",
    "ax2.plot(times, data[3,:], lw=3, label='substrate concentration' + \" \", color='tab:blue')\n",
    "ax2.set_ylabel('substrate concentration (mM)')\n",
    "fig.legend(loc=(0.25,0.5))\n",
    "fig.tight_layout()\n",
    "plt.savefig('Fig1Dinset.pdf')"
   ]
  },
  {
   "cell_type": "code",
   "execution_count": null,
   "id": "appointed-selection",
   "metadata": {},
   "outputs": [],
   "source": []
  }
 ],
 "metadata": {
  "kernelspec": {
   "display_name": "Python 3",
   "language": "python",
   "name": "python3"
  },
  "language_info": {
   "codemirror_mode": {
    "name": "ipython",
    "version": 3
   },
   "file_extension": ".py",
   "mimetype": "text/x-python",
   "name": "python",
   "nbconvert_exporter": "python",
   "pygments_lexer": "ipython3",
   "version": "3.7.6"
  }
 },
 "nbformat": 4,
 "nbformat_minor": 5
}

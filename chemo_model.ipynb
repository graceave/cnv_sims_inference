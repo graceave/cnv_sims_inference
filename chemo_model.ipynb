{
 "cells": [
  {
   "cell_type": "markdown",
   "metadata": {},
   "source": [
    "Equations for chemostat competition:  \n",
    "$$\n",
    "\\frac{dX_A}{dt} = X_A ( \\frac{\\mu_A S}{S + k_A} - D ), \\\\\n",
    "\\frac{dX_C}{dt} = X_C ( \\frac{\\mu_C S}{S + k_C} - D ), \\\\\n",
    "\\frac{dX_N}{dt} = X_N ( \\frac{\\mu_N S}{S + k_N} - D ), \\\\\n",
    "\\frac{dS}{dt} = ( S_0 - S ) D - \\frac{X_A \\mu_A S}{( S + k_A ) Y_A} - \\frac{X_C \\mu_C S}{( S + k_C ) Y_C} - \\frac{X_N \\mu_N S}{( S + k_N ) Y_N}.\n",
    "$$"
   ]
  },
  {
   "cell_type": "markdown",
   "metadata": {},
   "source": [
    "Where:\n",
    "* $X_A$ is the density of the wildtype strain\n",
    "* $X_C$ is the density of the CNV strain\n",
    "* $X_N$ is the density of the SNV strain\n",
    "* $S$ is the concentration of the limiting nutrient in the medium\n",
    "* $S_0$ is the incoming substrate flow\n",
    "* $Y_i$ is the culture yield of strain $i$ per mole of the limiting nutrient\n",
    "* $D$ is the dilution rate of the culture\n",
    "* $\\mu$ is the growth rate, related to the concentration of the limiting nutrient with saturating kinetics,\n",
    "* $k_i$ is the substrate concentration at half-maximal $\\mu$ for strain $i$ \n"
   ]
  },
  {
   "cell_type": "markdown",
   "metadata": {},
   "source": [
    "Equations for mutation from ancestral genotype to mutant genotype:\n",
    "\n",
    "$$\n",
    "\\frac{dX_A}{dt} = (1 - \\delta_C - \\delta_S) X_A,\\\\\n",
    "\\frac{dX_C}{dt} = \\delta_C X_A, \\\\\n",
    "\\frac{dX_N}{dt} = \\delta_N X_A.\n",
    "$$\n"
   ]
  },
  {
   "cell_type": "markdown",
   "metadata": {},
   "source": [
    "Based on Airoldi et al. 2016 https://doi.org/10.1091/mbc.E14-05-1013, the values for the parameters are:\n",
    "\n",
    "* $k_i$ = 103µM nitrogen = 0.103 mM\n",
    "* $Y$ = 32,445 ± 3422 cells/ml per μmol of nitrogen = 32,445,000 cells/ml/mmol nitrogen\n",
    "* at steady state, $S$ = ∼80 μM = ~0.08 mM\n",
    "\n",
    "Based on Cooper TG (1982):\n",
    "* $\\mu_A$ = 0.45 h-1\n",
    "\n",
    "In addition, $\\mu_C=\\mu_A (1+s_C)$ and $\\mu_N=\\mu_C (1+s_N)$ are the growth rates of the mutants.\n",
    "\n",
    "From experiments:\n",
    "* $D$ = 0.12 h-1\n",
    "* $S_0$ = 800 μM = 0.8 mM\n",
    "* at steady state, cell density ~1.5e7 cells/ml\n",
    "\n",
    "This results in a doubling time of 5.8 hours, which is equal to 0.1724 generations h-1"
   ]
  },
  {
   "cell_type": "code",
   "execution_count": 1,
   "metadata": {},
   "outputs": [],
   "source": [
    "%matplotlib inline\n",
    "import matplotlib.pyplot as plt\n",
    "import numpy as np\n",
    "import numba"
   ]
  },
  {
   "cell_type": "code",
   "execution_count": 2,
   "metadata": {},
   "outputs": [],
   "source": [
    "@numba.jit\n",
    "def get_rates(A, CNV, SNV, S, k, D, μA, m_cnv, m_snv, s_cnv, s_snv):\n",
    "    \"\"\" Rates\n",
    "    A :  number of ancestral cells at current time step\n",
    "    CNV : number of cells with CNV at current time step\n",
    "    SNV : number of cells with SNV at current time step\n",
    "    S : substrate concentration at current time step\n",
    "    k : substrate concentration at half-maximal growth rate (here, the same for all cells)\n",
    "    D : dilution rate\n",
    "    μA : ancestral maximum growth rate\n",
    "    m_cnv : ancestral -> CNV mutation rate\n",
    "    m_snv : ancestral -> SNV mutation rate\n",
    "    s_cnv : CNV selection coefficient\n",
    "    s_snv : SNV selection coefficient\n",
    "    \"\"\"\n",
    "    return np.array([\n",
    "        A* ((μA *S) / (k + S)), # growth ancestral\n",
    "        A*D, # dilution ancestral\n",
    "        CNV * (((μA*(1+s_cnv)) *S) / (k + S)), # growth CNV \n",
    "        CNV*D, # dilution CNV\n",
    "        SNV * (((μA*(1+s_snv)) *S) / (k + S)), # growth SNV\n",
    "        SNV*D, # dilution SNV\n",
    "        A * m_cnv, # ancestral -> CNV\n",
    "        A * m_snv]#, # ancestral -> SNV\n",
    "        #(S0-S)*D] # substrate dilution\n",
    "    )\n",
    "\n",
    "# updates = np.array([\n",
    "#     [1, 0, 0, -1/y], # growth ancestral\n",
    "#     [-1, 0, 0, 0], # dilution ancestral\n",
    "#     [0, 1, 0, -1/y],  # growth CNV\n",
    "#     [0, -1, 0, 0], # dilution CNV\n",
    "#     [0, 0, 1, -1/y],  # growth SNV\n",
    "#     [0, 0, -1, 0], # dilution SNV\n",
    "#     [-1, 1, 0, 0], # mutation ancestral -> CNV\n",
    "#     [-1, 0, 1, 0], # mutation ancestral -> SNV\n",
    "#     [0, 0, 0, -1] # dilution substrate\n",
    "# ])\n",
    "updates = np.array([\n",
    "        [1, 0, 0], # growth ancestral\n",
    "        [-1, 0, 0], # dilution ancestral\n",
    "        [0, 1, 0],  # growth CNV\n",
    "        [0, -1, 0], # dilution CNV\n",
    "        [0, 0, 1],  # growth SNV\n",
    "        [0, 0, -1], # dilution SNV\n",
    "        [-1, 1, 0], # mutation ancestral -> CNV\n",
    "        [-1, 0, 1] # mutation ancestral -> SNV\n",
    "    ])\n",
    "\n",
    "@numba.jit\n",
    "def draw_time(rates):\n",
    "    \"\"\"Time for next reaction\n",
    "    Takes the output (as array) of get_rates()\n",
    "    \"\"\"\n",
    "    total_rate = rates.sum()\n",
    "    return np.random.exponential(1/total_rate)\n",
    "\n",
    "def draw_reaction(rates):\n",
    "    \"\"\"Get reaction type\n",
    "    Takes the output (as array) of get_rates()\n",
    "    \"\"\"\n",
    "    rates /= rates.sum()\n",
    "    return np.random.multinomial(1, rates).argmax()\n",
    "\n",
    "def gillespie_step(A, CNV, SNV, S, k, D, μA, m_cnv, m_snv, s_cnv, s_snv, updates, S0, y):\n",
    "    \"\"\" Single update of simulation\n",
    "    A :  number of ancestral cells at current time step\n",
    "    CNV : number of cells with CNV at current time step\n",
    "    SNV : number of cells with SNV at current time step\n",
    "    S : substrate concentration at current time step\n",
    "    k : substrate concentration at half-maximal growth rate (here, the same for all cell types)\n",
    "    D : dilution rate\n",
    "    μA : ancestral maximum growth rate\n",
    "    m_cnv : ancestral -> CNV mutation rate\n",
    "    m_snv : ancestral -> SNV mutation rate\n",
    "    s_cnv : CNV selection coefficient\n",
    "    s_snv : SNV selection coefficient\n",
    "    updates : change in reactants due to reactions\n",
    "    S0 : incoming substrate concentration, - S0 in diff eq\n",
    "    y : number of cells produced per mole of the limiting nutrient (here, the same for all cell types)\n",
    "    \"\"\"\n",
    "    rates = get_rates(A, CNV, SNV, S, k, D, μA, m_cnv, m_snv, s_cnv, s_snv)\n",
    "    Δt = draw_time(rates)\n",
    "    ri = draw_reaction(rates)\n",
    "    ΔA, ΔCNV, ΔSNV = updates[ri]\n",
    "    ΔS = I*D - D*S - (A*μA*S)/((S+k)*y) - (CNV*(μA*(1+s_cnv))*S)/((S+k)*y) - (SNV*(μA*(1+s_snv))*S)/((S+k)*y)\n",
    "    return Δt, ΔA, ΔCNV, ΔSNV, ΔS\n",
    "\n",
    "def τ_leap(A, CNV, SNV, S, k, D, μA, m_cnv, m_snv, s_cnv, s_snvww, S0, y, τ):\n",
    "    \"\"\" Single update of simulation using tau leaps\n",
    "    A :  number of ancestral cells at current time step\n",
    "    CNV : number of cells with CNV at current time step\n",
    "    SNV : number of cells with SNV at current time step\n",
    "    S : substrate concentration at current time step\n",
    "    k : substrate concentration at half-maximal growth rate (here, the same for all cell types)\n",
    "    D : dilution rate\n",
    "    μA : ancestral maximum growth rate\n",
    "    m_cnv : ancestral -> CNV mutation rate\n",
    "    m_snv : ancestral -> SNV mutation rate\n",
    "    s_cnv : CNV selection coefficient\n",
    "    s_snv : SNV selection coefficient\n",
    "    updates : change in reactants due to reactions\n",
    "    S0 : incoming substrate concentration - S0 in diff eq\n",
    "    y : number of cells produced per mole of the limiting nutrient (here, the same for all cell types)\n",
    "    τ : amount to advance time\n",
    "    \"\"\"\n",
    "    rates = get_rates(A, CNV, SNV, S, k, D, μA, m_cnv, m_snv, s_cnv, s_snv)\n",
    "    try:\n",
    "        adj_rates = np.random.poisson(rates * τ)\n",
    "    except ValueError:\n",
    "        print(rates, τ)\n",
    "        raise\n",
    "    if (adj_rates > 150).any() and τ > 1/100:\n",
    "        τ /= 2\n",
    "    ΔA, ΔCNV, ΔSNV = updates.T @ adj_rates\n",
    "    A += ΔA\n",
    "    CNV += ΔCNV\n",
    "    SNV += ΔSNV\n",
    "    ΔS = S0*D - D*S - (A*μA*S)/((S+k)*y) - (CNV*(μA*(1+s_cnv))*S)/((S+k)*y) - (SNV*(μA*(1+s_snv))*S)/((S+k)*y)\n",
    "    return τ, A, CNV, SNV, S+ΔS"
   ]
  },
  {
   "cell_type": "code",
   "execution_count": 3,
   "metadata": {},
   "outputs": [],
   "source": [
    "def CNVsimulator_simpleChemo(A_inoculation, S_init, k, D, μA, m_snv, s_snv, S0, y, τ, seed=None, **kwargs):\n",
    "    \"\"\" Simulates CNV and SNV evolution in a steady state chemostat for 267 generations, which is 1548.6 hours\n",
    "    Begins counting generations after 48 hours, during which time the chemostat reaches steady state\n",
    "    Returns proportion of the population with a CNV for generations observed in Lauer et al. 2018 as 1d np.array of length 25\n",
    "    \n",
    "    A_inoculation :  cell density at inoculation with ancestral type\n",
    "    S_init : initial substrate concentration in chemostat\n",
    "    k : substrate concentration at half-maximal growth rate (here, the same for all cell types)\n",
    "    D : dilution rate\n",
    "    μA : ancestral maximum growth rate\n",
    "    m_snv : ancestral -> SNV mutation rate\n",
    "    s_snv : SNV selection coefficient\n",
    "    updates : change in reactants due to reactions\n",
    "    S0 : incoming substrate concentration - S0 in diff eq\n",
    "    y : number of cells produced per mole of the limiting nutrient (here, the same for all cell types)\n",
    "    τ : amount to advance time\n",
    "    m_cnv : ancestral -> CNV mutation rate\n",
    "    s_cnv : CNV selection coefficient\n",
    "    seed : int\n",
    "    \n",
    "    Depending on what the downstream inference is, the following parameters are can be passed\n",
    "    cnv_params : np.array, 1d of length dim_param\n",
    "        Parameter vector with the log 10 selection coefficient and log 10 cnv mutation rate, for use with SNPE or to build observed data\n",
    "    parameters : instance of parameters\n",
    "        has attribute s, float, log 10 selection coefficient\n",
    "        has attribute m, float, log 10 cnv mutation rate\n",
    "        for use with pyABC\n",
    "    \"\"\"\n",
    "    cnv_params = kwargs.get('cnv_params', None)\n",
    "    parameters = kwargs.get('parameters', None)\n",
    "    \n",
    "    if seed is not None:\n",
    "        np.random.seed(seed=seed)\n",
    "    else:\n",
    "        np.random.seed()\n",
    "\n",
    "    \n",
    "    assert A_inoculation > 0\n",
    "    A_inoculation = np.uint64(A_inoculation)\n",
    "    \n",
    "    if isinstance(cnv_params, np.ndarray):\n",
    "        s_cnv, m_cnv = np.power(10,cnv_params)\n",
    "    else:\n",
    "        s_cnv = np.power(10,parameters.s)\n",
    "        m_cnv = np.power(10,parameters.m)\n",
    "        \n",
    "    s_cnv /= 5.8 #convert from per generation to per hour\n",
    "    m_cnv /= 5.8 #convert from per generation to per hour\n",
    "    s_snv /= 5.8\n",
    "    m_snv /= 5.8\n",
    "\n",
    "\n",
    "    A = A_inoculation\n",
    "    S = S_init # initial substrate concentration = concentration in media\n",
    "    CNV, SNV = 0, 0\n",
    "    t=0\n",
    "    \n",
    "    while t < 48: # allow chemostat to reach steady state\n",
    "        τ, A, CNV, SNV, S = τ_leap(A, CNV, SNV, S, k, D, μA, m_cnv, m_snv, s_cnv, s_snv, S0, y, τ)\n",
    "        A = max(A, 0)\n",
    "        CNV = max(CNV, 0)\n",
    "        SNV = max(SNV, 0)\n",
    "        S = max(S, 0)\n",
    "        t += τ\n",
    "        \n",
    "    t=0\n",
    "    states = [np.array([A, CNV, SNV, S])]\n",
    "    times=[t]\n",
    "    while t < 1548.6: # record from when the chemostat reaches steady state to gen 267\n",
    "        τ, A, CNV, SNV, S = τ_leap(A, CNV, SNV, S, k, D, μA, m_cnv, m_snv, s_cnv, s_snv, S0, y, τ)\n",
    "        A = max(A, 0)\n",
    "        CNV = max(CNV, 0)\n",
    "        SNV = max(SNV, 0)\n",
    "        S = max(S, 0)\n",
    "        t+=τ\n",
    "        states.append(np.array([A, CNV, SNV, S]))\n",
    "        times.append(t)\n",
    "    \n",
    "    data = np.stack(states, axis=1)\n",
    "    times=np.array(times)\n",
    "    gens=times/5.8 #convert hours to generations\n",
    "    #these were the generations observed in Lauer et al. 2018, so the time points at which we will record the state\n",
    "    exp_gen = np.array([25,33,41,54,62,70,79,87,95,103,116,124,132,145,153,161,174,182,190,211,219,232,244,257,267])\n",
    "    #get the indices closest to the generations observed\n",
    "    ngens = len(exp_gen)\n",
    "    indices = np.empty(ngens, dtype=int)\n",
    "    for i in range(ngens):\n",
    "        ab = np.abs(times-exp_gen[i])\n",
    "        indices[i] = ab.argmin()\n",
    "    # convert pop densities for each of three states to cnv proportion\n",
    "    p_cnv = data[1,:] / data[0:3,:].sum(axis=0)\n",
    "    \n",
    "    return np.transpose(p_cnv)[indices]"
   ]
  },
  {
   "cell_type": "code",
   "execution_count": 10,
   "metadata": {},
   "outputs": [],
   "source": [
    "A_inoc = 1e5\n",
    "S_init = .800\n",
    "s_snv=0.001\n",
    "m_snv=1e-5 \n",
    "cnv_params=np.array([np.log10(0.1), np.log10(1e-5)])\n",
    "D=0.12\n",
    "μA=0.45\n",
    "k=.103\n",
    "y=32445000\n",
    "S0=.800\n",
    "τ=1/10\n",
    "exp_gen = np.array([25,33,41,54,62,70,79,87,95,103,116,124,132,145,153,161,174,182,190,211,219,232,244,257,267])"
   ]
  },
  {
   "cell_type": "code",
   "execution_count": 11,
   "metadata": {},
   "outputs": [
    {
     "data": {
      "text/plain": [
       "array([0.00013157, 0.00014599, 0.0001628 , 0.00019414, 0.00020966,\n",
       "       0.00022426, 0.000255  , 0.00027175, 0.00028642, 0.00030561,\n",
       "       0.00033333, 0.00035943, 0.000382  , 0.00041851, 0.00044132,\n",
       "       0.00045697, 0.00048734, 0.00050291, 0.00052633, 0.00057761,\n",
       "       0.00060137, 0.00063144, 0.00067471, 0.00072378, 0.00077431])"
      ]
     },
     "execution_count": 11,
     "metadata": {},
     "output_type": "execute_result"
    }
   ],
   "source": [
    "#this is the version that will return data the way it is needed for  inference\n",
    "cnv_data = CNVsimulator_simpleChemo(A_inoc, S_init, k, D, μA, m_snv, s_snv, S0, y, τ, seed=1, cnv_params=cnv_params)\n",
    "cnv_data"
   ]
  },
  {
   "cell_type": "code",
   "execution_count": 12,
   "metadata": {},
   "outputs": [
    {
     "data": {
      "image/png": "[encoded data removed]",
      "text/plain": [
       "<Figure size 432x288 with 1 Axes>"
      ]
     },
     "metadata": {
      "needs_background": "light"
     },
     "output_type": "display_data"
    }
   ],
   "source": [
    "fig, ax = plt.subplots()\n",
    "ax.plot(exp_gen, cnv_data, lw=3)\n",
    "ax.set_xlabel('generation')\n",
    "ax.set_ylabel('proportion of the pop with cnv')\n",
    "ax.set_yscale('log');"
   ]
  },
  {
   "cell_type": "code",
   "execution_count": 13,
   "metadata": {},
   "outputs": [],
   "source": [
    "#this version will allow us to plot the different classes and the substrate conc\n",
    "s_cnv, m_cnv = np.power(10, cnv_params)\n",
    "s_cnv /= 5.8 #convert from per generation to per hour\n",
    "m_cnv /= 5.8 #convert from per generation to per hour\n",
    "s_snv /= 5.8\n",
    "m_snv /= 5.8\n",
    "\n",
    "A = A_inoc\n",
    "S = S_init # initial substrate concentration = concentration in media\n",
    "CNV, SNV = 0, 0\n",
    "t = 0\n",
    "\n",
    "states = [np.array([A, CNV, SNV, S])]\n",
    "times=[t]\n",
    "while t < 1548.6: # record from when the chemostat reaches steady state to gen 267\n",
    "    τ, A, CNV, SNV, S = τ_leap(A, CNV, SNV, S, k, D, μA, m_cnv, m_snv, s_cnv, s_snv, S0, y, τ)\n",
    "    A = max(A, 0)\n",
    "    CNV = max(CNV, 0)\n",
    "    SNV = max(SNV, 0)\n",
    "    S = max(S, 0)\n",
    "    t+=τ\n",
    "    states.append(np.array([A, CNV, SNV, S]))\n",
    "    times.append(t)\n",
    "    \n",
    "data = np.stack(states, axis=1)\n",
    "times = np.array(times)\n",
    "gens = times/5.8"
   ]
  },
  {
   "cell_type": "code",
   "execution_count": 14,
   "metadata": {},
   "outputs": [
    {
     "data": {
      "text/plain": [
       "<matplotlib.legend.Legend at 0x7fb7f2ca6f50>"
      ]
     },
     "execution_count": 14,
     "metadata": {},
     "output_type": "execute_result"
    },
    {
     "name": "stderr",
     "output_type": "stream",
     "text": [
      "/Users/graceavecilla/opt/anaconda3/lib/python3.7/site-packages/IPython/core/pylabtools.py:132: UserWarning: Creating legend with loc=\"best\" can be slow with large amounts of data.\n",
      "  fig.canvas.print_figure(bytes_io, **kw)\n"
     ]
    },
    {
     "data": {
      "image/png": "[encoded data removed]",
      "text/plain": [
       "<Figure size 432x288 with 1 Axes>"
      ]
     },
     "metadata": {
      "needs_background": "light"
     },
     "output_type": "display_data"
    }
   ],
   "source": [
    "import matplotlib.pyplot as plt\n",
    "fig, ax = plt.subplots()\n",
    "ax.plot(times, data[0,:], lw=3, label='wt ' + \" \")\n",
    "ax.plot(times, data[1,:], lw=3, label='cnv ' + \" \")\n",
    "ax.plot(times, data[2,:], lw=3, label='snv ' + \" \")\n",
    "ax.set_xlabel('Time (hours)')\n",
    "ax.set_ylabel('pop density (cells/ml)')\n",
    "ax.legend()"
   ]
  },
  {
   "cell_type": "code",
   "execution_count": 15,
   "metadata": {},
   "outputs": [
    {
     "data": {
      "text/plain": [
       "<matplotlib.legend.Legend at 0x7fb7f271c790>"
      ]
     },
     "execution_count": 15,
     "metadata": {},
     "output_type": "execute_result"
    },
    {
     "name": "stderr",
     "output_type": "stream",
     "text": [
      "/Users/graceavecilla/opt/anaconda3/lib/python3.7/site-packages/IPython/core/pylabtools.py:132: UserWarning: Creating legend with loc=\"best\" can be slow with large amounts of data.\n",
      "  fig.canvas.print_figure(bytes_io, **kw)\n"
     ]
    },
    {
     "data": {
      "image/png": "[encoded data removed]",
      "text/plain": [
       "<Figure size 432x288 with 1 Axes>"
      ]
     },
     "metadata": {
      "needs_background": "light"
     },
     "output_type": "display_data"
    }
   ],
   "source": [
    "import matplotlib.pyplot as plt\n",
    "fig, ax = plt.subplots()\n",
    "ax.plot(times, data[3,:], lw=3, label='substrate amount' + \" \")\n",
    "ax.set_xlabel('Time')\n",
    "ax.set_ylabel('substrate concentration (mM)')\n",
    "ax.legend()"
   ]
  },
  {
   "cell_type": "code",
   "execution_count": null,
   "metadata": {},
   "outputs": [],
   "source": []
  }
 ],
 "metadata": {
  "kernelspec": {
   "display_name": "Python 3",
   "language": "python",
   "name": "python3"
  },
  "language_info": {
   "codemirror_mode": {
    "name": "ipython",
    "version": 3
   },
   "file_extension": ".py",
   "mimetype": "text/x-python",
   "name": "python",
   "nbconvert_exporter": "python",
   "pygments_lexer": "ipython3",
   "version": "3.7.6"
  }
 },
 "nbformat": 4,
 "nbformat_minor": 4
}

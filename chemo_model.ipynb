{
 "cells": [
  {
   "cell_type": "markdown",
   "metadata": {},
   "source": [
    "Equations for chemostat competition:  \n",
    "$$\n",
    "\\frac{dX_A}{dt} = X_A ( \\frac{\\mu_A S}{S + k_A} - D ), \\\\\n",
    "\\frac{dX_C}{dt} = X_C ( \\frac{\\mu_C S}{S + k_C} - D ), \\\\\n",
    "\\frac{dX_N}{dt} = X_N ( \\frac{\\mu_N S}{S + k_N} - D ), \\\\\n",
    "\\frac{dS}{dt} = ( S_0 - S ) D - \\frac{X_A \\mu_A S}{( S + k_A ) Y_A} - \\frac{X_C \\mu_C S}{( S + k_C ) Y_C} - \\frac{X_N \\mu_N S}{( S + k_N ) Y_N}.\n",
    "$$"
   ]
  },
  {
   "cell_type": "markdown",
   "metadata": {},
   "source": [
    "Where:\n",
    "* $X_A$ is the density of the ancestral strain\n",
    "* $X_C$ is the density of the CNV strain\n",
    "* $X_N$ is the density of the SNV strain"
   ]
  },
  {
   "cell_type": "markdown",
   "metadata": {},
   "source": [
    "Equations for mutation from ancestral genotype to mutant genotype:\n",
    "\n",
    "$$\n",
    "\\frac{dX_A}{dt} = (1 - \\delta_C - \\delta_S) X_A,\\\\\n",
    "\\frac{dX_C}{dt} = \\delta_C X_A, \\\\\n",
    "\\frac{dX_N}{dt} = \\delta_N X_A.\n",
    "$$\n"
   ]
  },
  {
   "cell_type": "markdown",
   "metadata": {},
   "source": [
    "Based on Airoldi et al. 2016 https://doi.org/10.1091/mbc.E14-05-1013, the values for the parameters are:\n",
    "\n",
    "* $k_s$ = 103µM nitrogen = 0.103 mM\n",
    "* $Y$ = 32,445 ± 3422 cells/ml per μmol of nitrogen = ???\n",
    "* at steady state, $S$ = ∼80 μM = ~0.08 mM\n",
    "\n",
    "Based on Cooper TG (1982):\n",
    "* $\\mu_A$ = 0.45 h-1\n",
    "\n",
    "From experiments:\n",
    "* $D$ = 0.12 h-1\n",
    "* $S_0$ = 800 μM = 0.8 mM\n",
    "* at steady state, cell density ~1.5e7 cells/ml\n",
    "\n",
    "This results in a doubling time of 5.8 hours, which is equal to 0.1724 generations h-1"
   ]
  },
  {
   "cell_type": "code",
   "execution_count": 1,
   "metadata": {},
   "outputs": [],
   "source": [
    "import numpy as np\n",
    "import numba\n",
    "\n",
    "@numba.jit\n",
    "def get_rates(A, CNV, SNV, S, k, D, μA, m_cnv, m_snv, s_cnv, s_snv):\n",
    "    \"\"\" Rates\n",
    "    A :  number of ancestral cells at current time step\n",
    "    CNV : number of cells with CNV at current time step\n",
    "    SNV : number of cells with SNV at current time step\n",
    "    S : substrate concentration at current time step\n",
    "    k : substrate concentration at half-maximal growth rate (here, the same for all cells)\n",
    "    D : dilution rate\n",
    "    μA : ancestral maximum growth rate\n",
    "    m_cnv : ancestral -> CNV mutation rate\n",
    "    m_snv : ancestral -> SNV mutation rate\n",
    "    s_cnv : CNV selection coefficient\n",
    "    s_snv : SNV selection coefficient\n",
    "    \"\"\"\n",
    "    return np.array([\n",
    "        A* ((μA *S) / (k + S)), # growth ancestral\n",
    "        A*D, # dilution ancestral\n",
    "        CNV * (((μA*(1+s_cnv)) *S) / (k + S)), # growth CNV \n",
    "        CNV*D, # dilution CNV\n",
    "        SNV * (((μA*(1+s_snv)) *S) / (k + S)), # growth SNV\n",
    "        SNV*D, # dilution SNV\n",
    "        A * m_cnv, # ancestral -> CNV\n",
    "        A * m_snv] # ancestral -> SNV\n",
    "    )\n",
    "\n",
    "@numba.jit\n",
    "def draw_time(rates):\n",
    "    \"\"\"Time for next reaction\n",
    "    Takes the output (as array) of get_rates()\n",
    "    \"\"\"\n",
    "    total_rate = rates.sum()\n",
    "    return np.random.exponential(1/total_rate)\n",
    "\n",
    "def draw_reaction(rates):\n",
    "    \"\"\"Get reaction type\n",
    "    Takes the output (as array) of get_rates()\n",
    "    \"\"\"\n",
    "    rates /= rates.sum()\n",
    "    return np.random.multinomial(1, rates).argmax()\n",
    "\n",
    "def gillespie_step(A, CNV, SNV, S, k, D, μA, m_cnv, m_snv, s_cnv, s_snv, updates, I, y):\n",
    "    \"\"\" Single update of simulation\n",
    "    A :  number of ancestral cells at current time step\n",
    "    CNV : number of cells with CNV at current time step\n",
    "    SNV : number of cells with SNV at current time step\n",
    "    S : substrate concentration at current time step\n",
    "    k : substrate concentration at half-maximal growth rate (here, the same for all cell types)\n",
    "    D : dilution rate\n",
    "    μA : ancestral maximum growth rate\n",
    "    m_cnv : ancestral -> CNV mutation rate\n",
    "    m_snv : ancestral -> SNV mutation rate\n",
    "    s_cnv : CNV selection coefficient\n",
    "    s_snv : SNV selection coefficient\n",
    "    updates : change in reactants due to reactions\n",
    "    I : incoming substrate concentration, - S0 in diff eq\n",
    "    y : number of cells produced per mole of the limiting nutrient (here, the same for all cell types)\n",
    "    \"\"\"\n",
    "    rates = get_rates(A, CNV, SNV, S, k, D, μA, m_cnv, m_snv, s_cnv, s_snv)\n",
    "    Δt = draw_time(rates)\n",
    "    ri = draw_reaction(rates)\n",
    "    ΔA, ΔCNV, ΔSNV = updates[ri]\n",
    "    ΔS = I*D - D*S - (A*μA*S)/((S+k)*y) - (CNV*(μA*(1+s_cnv))*S)/((S+k)*y) - (SNV*(μA*(1+s_snv))*S)/((S+k)*y)\n",
    "    return Δt, ΔA, ΔCNV, ΔSNV, ΔS\n",
    "\n",
    "def tau_leap(A, CNV, SNV, S, k, D, μA, m_cnv, m_snv, s_cnv, s_snv, updates, I, y, τ):\n",
    "    \"\"\" Single update of simulation using tau leaps\n",
    "    A :  number of ancestral cells at current time step\n",
    "    CNV : number of cells with CNV at current time step\n",
    "    SNV : number of cells with SNV at current time step\n",
    "    S : substrate concentration at current time step\n",
    "    k : substrate concentration at half-maximal growth rate (here, the same for all cell types)\n",
    "    D : dilution rate\n",
    "    μA : ancestral maximum growth rate\n",
    "    m_cnv : ancestral -> CNV mutation rate\n",
    "    m_snv : ancestral -> SNV mutation rate\n",
    "    s_cnv : CNV selection coefficient\n",
    "    s_snv : SNV selection coefficient\n",
    "    updates : change in reactants due to reactions\n",
    "    I : incoming substrate concentration - S0 in diff eq\n",
    "    y : number of cells produced per mole of the limiting nutrient (here, the same for all cell types)\n",
    "    τ : amount to advance time\n",
    "    \"\"\"\n",
    "    rates = get_rates(A, CNV, SNV, S, k, D, μA, m_cnv, m_snv, s_cnv, s_snv)\n",
    "    j = np.random.poisson(rates * τ)\n",
    "    if (j > 150).any() and τ > 1/100:\n",
    "            τ /= 2\n",
    "    A, CNV, SNV = np.array([A, CNV, SNV]) + np.transpose(updates) @ j\n",
    "    ΔS = I*D - D*S - (A*μA*S)/((S+k)*y) - (CNV*(μA*(1+s_cnv))*S)/((S+k)*y) - (SNV*(μA*(1+s_snv))*S)/((S+k)*y)\n",
    "    return τ, A, CNV, SNV, S+ΔS"
   ]
  },
  {
   "cell_type": "code",
   "execution_count": 2,
   "metadata": {},
   "outputs": [],
   "source": [
    "def CNVsimulator_simpleChemo(A_inoc, S_init, k, D, μA, m_snv, s_snv, I, τ, seed=None, **kwargs):\n",
    "    \"\"\" Simulates CNV and SNV evolution in a steady state chemostat for 267 generations, which is 1548.6 hours\n",
    "    Begins counting generations after 48 hours, during which time the chemostat reaches steady state\n",
    "    Returns proportion of the population with a CNV for generations observed in Lauer et al. 2018 as 1d np.array of length 25\n",
    "    \n",
    "    A_inoc :  cell density at inoculation with ancestral type\n",
    "    S_init : initial substrate concentration in chemostat\n",
    "    k : substrate concentration at half-maximal growth rate (here, the same for all cell types)\n",
    "    D : dilution rate\n",
    "    μA : ancestral maximum growth rate\n",
    "    m_snv : ancestral -> SNV mutation rate\n",
    "    s_snv : SNV selection coefficient\n",
    "    updates : change in reactants due to reactions\n",
    "    I : incoming substrate concentration - S0 in diff eq\n",
    "    y : number of cells produced per mole of the limiting nutrient (here, the same for all cell types)\n",
    "    τ : amount to advance time\n",
    "    m_cnv : ancestral -> CNV mutation rate\n",
    "    s_cnv : CNV selection coefficient\n",
    "    seed : int\n",
    "    \n",
    "    Depending on what the downstream inference is, the following parameters are can be passed\n",
    "    cnv_params : np.array, 1d of length dim_param\n",
    "        Parameter vector with the log 10 selection coefficient and log 10 cnv mutation rate, for use with SNPE or to build observed data\n",
    "    parameters : instance of parameters\n",
    "        has attribute s, float, log 10 selection coefficient\n",
    "        has attribute m, float, log 10 cnv mutation rate\n",
    "        for use with pyABC\n",
    "    \"\"\"\n",
    "    cnv_params = kwargs.get('cnv_params', None)\n",
    "    parameters = kwargs.get('parameters', None)\n",
    "    \n",
    "    if seed is not None:\n",
    "        np.random.seed(seed=seed)\n",
    "    else:\n",
    "        np.random.seed()\n",
    "\n",
    "    \n",
    "    assert A_inoc > 0\n",
    "    A_inoc = np.uint64(A_inoc)\n",
    "    if isinstance(cnv_params, np.ndarray):\n",
    "        s_cnv, m_cnv = np.power(10,cnv_params)\n",
    "    else:\n",
    "        s_cnv = np.power(10,parameters.s)\n",
    "        m_cnv = np.power(10,parameters.m)\n",
    "    s_cnv /= 5.8 #convert from per generation to per hour\n",
    "    m_cnv /= 5.8 #convert from per generation to per hour\n",
    "    s_snv /= 5.8\n",
    "    m_snv /= 5.8\n",
    "\n",
    "\n",
    "    updates = np.array([\n",
    "        [1, 0, 0], # growth ancestral\n",
    "        [-1, 0, 0], # dilution ancestral\n",
    "        [0, 1, 0],  # growth CNV\n",
    "        [0, -1, 0], # dilution CNV\n",
    "        [0, 0, 1],  # growth SNV\n",
    "        [0, 0, -1], # dilution SNV\n",
    "        [-1, 1, 0], # mutation ancestral -> CNV\n",
    "        [-1, 0, 1] # mutation ancestral -> SNV\n",
    "    ])\n",
    "    A = A_inoc\n",
    "    S = S_init # initial substrate concentration = concentration in media\n",
    "    CNV, SNV = 0, 0\n",
    "    t=0\n",
    "    while t < 48: # allow chemostat to reach steady state\n",
    "        τ, A, CNV, SNV, S = tau_leap(A, CNV, SNV, S, k, D, μA, m_cnv, m_snv, s_cnv, s_snv, updates, I, τ)\n",
    "        if A < 0:\n",
    "            A = 0\n",
    "        if CNV < 0:\n",
    "            CNV = 0\n",
    "        if SNV < 0:\n",
    "            SNV = 0\n",
    "        if S < 0:\n",
    "            S=0\n",
    "        t+=τ\n",
    "        \n",
    "    t=0\n",
    "    states = [np.array([A, CNV, SNV, S])]\n",
    "    times=[t]\n",
    "    while t < 1548.6: # record from when the chemostat reaches steady state to gen 267\n",
    "        τ, A, CNV, SNV, S = tau_leap(A, CNV, SNV, S, k, D, μA, m_cnv, m_snv, s_cnv, s_snv, updates, I, τ)\n",
    "        if A < 0:\n",
    "            A = 0\n",
    "        if CNV < 0:\n",
    "            CNV = 0\n",
    "        if SNV < 0:\n",
    "            SNV = 0\n",
    "        if S < 0:\n",
    "            S=0\n",
    "        t+=τ\n",
    "        states.append(np.array([A, CNV, SNV, S]))\n",
    "        times.append(t)\n",
    "    \n",
    "    data = np.stack(states, axis=1)\n",
    "    times=np.array(times)\n",
    "    gens=times/5.8 #convert hours to generations\n",
    "    #these were the generations observed in Lauer et al. 2018, so the time points at which we will record the state\n",
    "    exp_gen = np.array([25,33,41,54,62,70,79,87,95,103,116,124,132,145,153,161,174,182,190,211,219,232,244,257,267])\n",
    "    #get the indices closest to the generations observed\n",
    "    indices = np.empty(exp_gen.shape, dtype=int)\n",
    "    for i in range(len(exp_gen)):\n",
    "        ab = np.abs(times-exp_gen[i])\n",
    "        indices[i] = ab.argmin()\n",
    "    # convert pop densities for each of three states to cnv proportion\n",
    "    p_cnv = data[1,:] / data[0:3,:].sum(axis=0)\n",
    "    \n",
    "    return np.transpose(p_cnv)[indices]"
   ]
  },
  {
   "cell_type": "code",
   "execution_count": 6,
   "metadata": {},
   "outputs": [],
   "source": [
    "A_inoc = 1e5\n",
    "S_init = .800\n",
    "s_snv=0.002  # Venkataram et al. 2016\n",
    "m_snv=1.67e-10 #SNV mutation rate: 1.67 x 10^-10 per base per generation (Zhu et al. 2014)\n",
    "cnv_params =np.array([np.log10(0.1), np.log10(1e-5)])\n",
    "D=0.12\n",
    "μA=0.45\n",
    "k=.103\n",
    "y=3244500\n",
    "I=.800\n",
    "τ=1/10\n",
    "exp_gen = np.array([25,33,41,54,62,70,79,87,95,103,116,124,132,145,153,161,174,182,190,211,219,232,244,257,267])"
   ]
  },
  {
   "cell_type": "code",
   "execution_count": 12,
   "metadata": {},
   "outputs": [],
   "source": [
    "#this version will allow us to plot the different classes and the substrate conc\n",
    "s_cnv, m_cnv = np.power(10,cnv_params)\n",
    "s_cnv /= 5.8 #convert from per generation to per hour\n",
    "m_cnv /= 5.8 #convert from per generation to per hour\n",
    "s_snv /= 5.8\n",
    "m_snv /= 5.8\n",
    "\n",
    "\n",
    "updates = np.array([\n",
    "    [1, 0, 0], # growth ancestral\n",
    "    [-1, 0, 0], # dilution ancestral\n",
    "    [0, 1, 0],  # growth CNV\n",
    "    [0, -1, 0], # dilution CNV\n",
    "    [0, 0, 1],  # growth SNV\n",
    "    [0, 0, -1], # dilution SNV\n",
    "    [-1, 1, 0], # mutation ancestral -> CNV\n",
    "    [-1, 0, 1] # mutation ancestral -> SNV\n",
    "])\n",
    "A = A_inoc\n",
    "S = S_init # initial substrate concentration = concentration in media\n",
    "CNV, SNV = 0, 0\n",
    "t=0\n",
    "\n",
    "states = [np.array([A, CNV, SNV, S])]\n",
    "times=[t]\n",
    "while t < 1596.6: # record from when the chemostat reaches steady state to gen 267\n",
    "    τ, A, CNV, SNV, S = tau_leap(A, CNV, SNV, S, k, D, μA, m_cnv, m_snv, s_cnv, s_snv, updates, I, τ)\n",
    "    if A < 0:\n",
    "        A = 0\n",
    "    if CNV < 0:\n",
    "        CNV = 0\n",
    "    if SNV < 0:\n",
    "        SNV = 0\n",
    "    if S < 0:\n",
    "            S=0\n",
    "    t+=τ\n",
    "    states.append(np.array([A, CNV, SNV, S]))\n",
    "    times.append(t)\n",
    "    \n",
    "data = np.stack(states, axis=1)\n",
    "times=np.array(times)\n",
    "gens=times/5.8"
   ]
  },
  {
   "cell_type": "code",
   "execution_count": 9,
   "metadata": {},
   "outputs": [],
   "source": [
    "#this is the version that will return data the way it is needed for  inference\n",
    "cnv_data = CNVsimulator_simpleChemo(A_inoc, S_init, k, D, μA, m_snv, s_snv, I, y, τ, seed=1, cnv_params=cnv_params)"
   ]
  },
  {
   "cell_type": "code",
   "execution_count": 10,
   "metadata": {},
   "outputs": [
    {
     "name": "stderr",
     "output_type": "stream",
     "text": [
      "No handles with labels found to put in legend.\n"
     ]
    },
    {
     "data": {
      "text/plain": [
       "<matplotlib.legend.Legend at 0x7ff506730dd0>"
      ]
     },
     "execution_count": 10,
     "metadata": {},
     "output_type": "execute_result"
    },
    {
     "data": {
      "image/png": "[encoded data removed]",
      "text/plain": [
       "<Figure size 432x288 with 1 Axes>"
      ]
     },
     "metadata": {
      "needs_background": "light"
     },
     "output_type": "display_data"
    }
   ],
   "source": [
    "import matplotlib.pyplot as plt\n",
    "fig, ax = plt.subplots()\n",
    "ax.plot(exp_gen, cnv_data, lw=3)\n",
    "ax.set_xlabel('generation')\n",
    "ax.set_ylabel('proportion of the pop with cnv')\n",
    "ax.legend()"
   ]
  },
  {
   "cell_type": "code",
   "execution_count": 13,
   "metadata": {},
   "outputs": [
    {
     "data": {
      "text/plain": [
       "<matplotlib.legend.Legend at 0x7ff50369c1d0>"
      ]
     },
     "execution_count": 13,
     "metadata": {},
     "output_type": "execute_result"
    },
    {
     "name": "stderr",
     "output_type": "stream",
     "text": [
      "/Users/graceavecilla/opt/anaconda3/lib/python3.7/site-packages/IPython/core/pylabtools.py:132: UserWarning: Creating legend with loc=\"best\" can be slow with large amounts of data.\n",
      "  fig.canvas.print_figure(bytes_io, **kw)\n"
     ]
    },
    {
     "data": {
      "image/png": "[encoded data removed]",
      "text/plain": [
       "<Figure size 432x288 with 1 Axes>"
      ]
     },
     "metadata": {
      "needs_background": "light"
     },
     "output_type": "display_data"
    }
   ],
   "source": [
    "import matplotlib.pyplot as plt\n",
    "fig, ax = plt.subplots()\n",
    "ax.plot(times, data[0,:], lw=3, label='ancestor ' + \" \")\n",
    "ax.plot(times, data[1,:], lw=3, label='cnv ' + \" \")\n",
    "ax.plot(times, data[2,:], lw=3, label='snv ' + \" \")\n",
    "ax.set_xlabel('Time (hours)')\n",
    "ax.set_ylabel('pop density (cells/ml)')\n",
    "ax.legend()"
   ]
  },
  {
   "cell_type": "code",
   "execution_count": 14,
   "metadata": {},
   "outputs": [
    {
     "data": {
      "text/plain": [
       "<matplotlib.legend.Legend at 0x7ff5034f1390>"
      ]
     },
     "execution_count": 14,
     "metadata": {},
     "output_type": "execute_result"
    },
    {
     "name": "stderr",
     "output_type": "stream",
     "text": [
      "/Users/graceavecilla/opt/anaconda3/lib/python3.7/site-packages/IPython/core/pylabtools.py:132: UserWarning: Creating legend with loc=\"best\" can be slow with large amounts of data.\n",
      "  fig.canvas.print_figure(bytes_io, **kw)\n"
     ]
    },
    {
     "data": {
      "image/png": "[encoded data removed]",
      "text/plain": [
       "<Figure size 432x288 with 1 Axes>"
      ]
     },
     "metadata": {
      "needs_background": "light"
     },
     "output_type": "display_data"
    }
   ],
   "source": [
    "import matplotlib.pyplot as plt\n",
    "fig, ax = plt.subplots()\n",
    "ax.plot(times, data[3,:], lw=3, label='substrate amount' + \" \")\n",
    "ax.set_xlabel('Time')\n",
    "ax.set_ylabel('substrate concentration (mM)')\n",
    "ax.legend()"
   ]
  }
 ],
 "metadata": {
  "kernelspec": {
   "display_name": "Python 3",
   "language": "python",
   "name": "python3"
  },
  "language_info": {
   "codemirror_mode": {
    "name": "ipython",
    "version": 3
   },
   "file_extension": ".py",
   "mimetype": "text/x-python",
   "name": "python",
   "nbconvert_exporter": "python",
   "pygments_lexer": "ipython3",
   "version": "3.7.6"
  }
 },
 "nbformat": 4,
 "nbformat_minor": 4
}
